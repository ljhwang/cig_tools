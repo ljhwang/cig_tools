{
 "cells": [
  {
   "cell_type": "markdown",
   "id": "dfdf8da5-69cc-4ed5-a1ba-9a29160f0717",
   "metadata": {},
   "source": [
    "## Download Maps"
   ]
  },
  {
   "cell_type": "code",
   "execution_count": null,
   "id": "2721c856-5fc2-4694-a704-445229c93eba",
   "metadata": {},
   "outputs": [],
   "source": [
    "# monthlyCountList used for Tool Statistics (Downloads, Redirect Counts)\n",
    "# Open and load the data\n",
    "f = open('json/monthlyCountList.json',)\n",
    "monthly_count_list_data = json.load(f)"
   ]
  },
  {
   "cell_type": "code",
   "execution_count": null,
   "id": "4e3b35eb-30a0-4659-beb9-69817fcec0ad",
   "metadata": {},
   "outputs": [],
   "source": [
    "# First, Downloads data under world_map_list\n",
    "dat = monthly_count_list_data['world_map_list']\n",
    "\n",
    "# Create new csv file if it does not exist, then create writer for it\n",
    "data_file = open('csv/downloads.csv', 'w')\n",
    "csv_writer = csv.writer(data_file)\n",
    " \n",
    "# Write the headers into the file using the first row\n",
    "header = dat[0].keys()\n",
    "csv_writer.writerow(header)\n",
    "        \n",
    "for d in dat:\n",
    "    # Writing each row value of to the CSV file\n",
    "    # This and Releases are different from the other JSON files because there are nested dicts\n",
    "    csv_writer.writerow(d.values())\n",
    " \n",
    "data_file.close()"
   ]
  },
  {
   "cell_type": "code",
   "execution_count": null,
   "id": "a90c5946-b3d8-4eb5-bd65-712c9200909c",
   "metadata": {},
   "outputs": [],
   "source": [
    "# Downloads map code here\n",
    "# TODO\n",
    "# Convert the original data to a dataframe\n",
    "dat = monthly_count_list_data['world_map_list']\n",
    "df = pd.DataFrame(dat)\n",
    "\n",
    "# display(df)"
   ]
  },
  {
   "cell_type": "code",
   "execution_count": null,
   "id": "3f2c182d-36f5-4a13-8698-277c19908459",
   "metadata": {},
   "outputs": [],
   "source": [
    "# Second, Monthly Redirects data under monthly_count\n",
    "dat = monthly_count_list_data['monthly_count']\n",
    "\n",
    "# Create new csv file if it does not exist in a csv folder, then create writer for it\n",
    "data_file = open('csv/monthlyRedirects.csv', 'w')\n",
    "csv_writer = csv.writer(data_file)\n",
    " \n",
    "# Write the headers into the file \n",
    "header = [\"month\", \"redirects\"]\n",
    "csv_writer.writerow(header)\n",
    "\n",
    "# Convert each key/value pair in the dict to a list\n",
    "dat = list(dat.items())\n",
    "        \n",
    "for d in dat:\n",
    "    # Writing each row value of to the CSV file\n",
    "    csv_writer.writerow(d)\n",
    " \n",
    "data_file.close()"
   ]
  },
  {
   "cell_type": "code",
   "execution_count": null,
   "id": "e22874c3-17b6-4a55-ac4a-b5f126f42ae3",
   "metadata": {},
   "outputs": [],
   "source": [
    "# Monthly redirects code here\n",
    "# TODO\n",
    "df = pd.DataFrame(dat, columns=['date', 'count'])\n",
    "\n",
    "#fig = px.histogram(df, x='date', y=\"count\")\n",
    "#fig.show()"
   ]
  },
  {
   "cell_type": "code",
   "execution_count": null,
   "id": "1e5b070b-5244-4aa7-a92b-5b66738f6c34",
   "metadata": {},
   "outputs": [],
   "source": [
    "# Lifetime Statistics\n",
    "# TODO\n",
    "# SKIP"
   ]
  },
  {
   "cell_type": "markdown",
   "id": "501b9c8d-d113-479d-9d6b-78f344e82aa7",
   "metadata": {},
   "source": [
    "### Optional\n",
    "Load this data for the followng plots:\n",
    " * Author Contributions\n",
    " * Commits"
   ]
  }
 ],
 "metadata": {
  "kernelspec": {
   "display_name": "Python 3 (ipykernel)",
   "language": "python",
   "name": "python3"
  },
  "language_info": {
   "codemirror_mode": {
    "name": "ipython",
    "version": 3
   },
   "file_extension": ".py",
   "mimetype": "text/x-python",
   "name": "python",
   "nbconvert_exporter": "python",
   "pygments_lexer": "ipython3",
   "version": "3.9.7"
  }
 },
 "nbformat": 4,
 "nbformat_minor": 5
}
