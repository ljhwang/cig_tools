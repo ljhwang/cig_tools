{
 "cells": [
  {
   "cell_type": "markdown",
   "metadata": {},
   "source": [
    "# Hitcount Map\n",
    "\n",
    "**Authors:** Lorraine Hwang, Denise Kwong\n",
    "\n",
    "**Previous Version:** Based on plot.py by Eric Heien.\n",
    "\n",
    "---\n",
    "\n",
    "**Purpose**\n",
    "\n",
    "This Jupyter notebook creates hitcount maps from both the legacy data from the UC Davis servers and the current data now hosted by Hubzero.\n",
    "\n",
    "Users can use the legacy database stored as sqlite and/or import data generated from the Tool Stats from the software landing pages on geodynamics.org\n",
    "\n",
    "The legacy database includes data roughly from 2012 - 2021.\n",
    "\n",
    "The new database roughly begins in March 2023.\n",
    "\n",
    "**Contributing**\n",
    "\n",
    "We welcome your contributions in helping to create better functionality and prettier maps. Please consider contributing your changes to the repository by submitting a pull requests\n",
    "\n",
    "**Known Issues**\n",
    "\n",
    "The IP list for bots is known to be incomplete. When using the legacy data, inspect ip_nums and the map.  ip_nums is NOT the same as the IP address. ip_nums is the decimal format.\n",
    "\n",
    "You can use the following tool to convert:\n",
    "\n",
    "https://www.ipaddressguide.com/ip\n",
    "\n",
    "**Example**\n",
    "\n",
    "The following example plots both the legacy data and json data through May 2023'ish for the package ASPECT. \n",
    "\n",
    "Note the large number of downloads from China. Some IPs have already been added to filter_ips but more needs to be identified for this data to be trusted. Other suspect data locates in Iran.\n",
    "\n",
    "e.g. 1311203070 is 78.39.94.254 which is located in Kerman, Iran\n",
    "\n",
    "In the U.S., a large number of downloads are associated with CIG Headquarters at UC Davis and a government/USGS/??? server in Kansas.\n",
    "\n",
    "<img title=\"ASPECT\" alt=\"Alt text\" src=\"../images/aspect.png\">\n",
    "\n",
    "---"
   ]
  },
  {
   "cell_type": "markdown",
   "metadata": {},
   "source": [
    "## Import needed libraries"
   ]
  },
  {
   "cell_type": "code",
   "execution_count": 1,
   "metadata": {},
   "outputs": [],
   "source": [
    "import math\n",
    "import os\n",
    "import sqlite3\n",
    "import datetime\n",
    "import pandas as pd\n",
    "import json\n",
    "import plotly.express as px\n",
    "\n",
    "# Initialize array. This is necessary if not using legacy data\n",
    "locs = []\n",
    "PACKAGE_NAM = \"\"\n"
   ]
  },
  {
   "cell_type": "markdown",
   "metadata": {},
   "source": [
    "### Legacy data\n",
    "Skip if NOT using legacy data.\n",
    "\n",
    "#### IP numbers to filter\n",
    "\n",
    "This is used to filter out known bots from the legacy data.  \n",
    "\n",
    "CAUTION: This list is NOT comprehensive. More work needs to be done in cleaning IPS out of the legacy data."
   ]
  },
  {
   "cell_type": "code",
   "execution_count": null,
   "metadata": {},
   "outputs": [],
   "source": [
    "filter_ips = [\n",
    "    2155411043,\n",
    "    1368427042,  # crawl-81-144-138-34.wotbox.com, crawler\n",
    "    2025873270,  # 120.192.95.118, unknown site in China\n",
    "    2026569611,  # 120.202.255.139, unknown site in China\n",
    "    2025868405,  # 120.192.76.117, unknown site in China\n",
    "    2026569613,  # 120.202.255.141, unknown site in China\n",
    "    3548981000,  # 211.137.39.8, unknown site in China\n",
    "    1862796174,  # 111.8.3.142, unknown site in China\n",
    "    3548981003,  # 211.137.39.11, unknown site in China\n",
    "    3548980999,  # 211.137.39.7, unknown site in China\n",
    "    3719653427,  # 221.181.104.51, unknown site in China\n",
    "    2025868387,  # 120.192.76.99, unknown site in China\n",
    "    # Added 15 August 2023 L.J. Hwang\n",
    "    3658880259,  # Suspected bot based on number of hits (China)\n",
    "    3525924814,  # Suspected bot based on number of hits (China)\n",
    "    2682452965,  # Suspected bot based on number of hits (China)\n",
    "    3740312921,\n",
    "    1843404020\n",
    "]"
   ]
  },
  {
   "cell_type": "markdown",
   "metadata": {},
   "source": [
    "#### Define functions\n",
    "These functions are needed to manipulate the legacy data and created by Eric Heien."
   ]
  },
  {
   "cell_type": "code",
   "execution_count": null,
   "metadata": {},
   "outputs": [],
   "source": [
    "def find_ip_lat_lon(db_conn, ip_num):\n",
    "    curs = db_conn.cursor()\n",
    "    curs.execute(\n",
    "        \"SELECT location.latitude, location.longitude FROM location, block WHERE block.loc_id = location.loc_id AND ? BETWEEN block.start_ip AND block.end_ip limit 1;\", (ip_num,))\n",
    "    return curs.fetchone()\n",
    "\n",
    "\n",
    "def ip_nums_to_locations(db_name, ip_num_list):\n",
    "    db_conn = sqlite3.connect(db_name)\n",
    "    unmapped_ips = 0\n",
    "\n",
    "    cache = {}\n",
    "    result = []\n",
    "    for check_ip in ip_num_list:\n",
    "        if check_ip in cache:\n",
    "            result.append(cache[check_ip])\n",
    "        else:\n",
    "            res = find_ip_lat_lon(db_conn, check_ip)\n",
    "            if res is not None:\n",
    "                result.append(res)\n",
    "                cache[check_ip] = res\n",
    "    db_conn.close()\n",
    "\n",
    "    return result\n",
    "\n",
    "\n",
    "def lookup_hits(db_name, package_name, start_time, end_time):\n",
    "    db_conn = sqlite3.connect(db_name)\n",
    "    curs = db_conn.cursor()\n",
    "    result = []\n",
    "    if package_name == \"comprehensive\":\n",
    "        curs.execute(\n",
    "            \"SELECT hit.ip_num FROM hit WHERE hit.time >= ? AND hit.time <= ?;\", (start_time, end_time,))\n",
    "    else:\n",
    "        curs.execute(\n",
    "            \"SELECT hit.ip_num FROM hit, dist_file, package WHERE hit.time >= ? AND hit.time <= ? AND hit.file_id = dist_file.id AND dist_file.package_id = package.id AND package.package_name = ?;\",\n",
    "            (start_time, end_time, package_name,))\n",
    "    while True:\n",
    "        next_val = curs.fetchone()\n",
    "        if next_val is None:\n",
    "            break\n",
    "        ip_int_val = int(next_val[0])\n",
    "        if ip_int_val not in filter_ips:\n",
    "            result.append(ip_int_val)\n",
    "    db_conn.close()\n",
    "    return result\n"
   ]
  },
  {
   "cell_type": "markdown",
   "metadata": {},
   "source": [
    "#### Set filenames for data\n",
    "\n",
    "hit_database is the legacy database. It contains download data for all packages downloaded from cig servers.\n"
   ]
  },
  {
   "cell_type": "code",
   "execution_count": null,
   "metadata": {},
   "outputs": [],
   "source": [
    "HIT_DB_NAME = \"hit_database/hit_database\"\n",
    "LOCATION_DB_NAME = \"ip_database/ip_lookup_db\""
   ]
  },
  {
   "cell_type": "markdown",
   "metadata": {},
   "source": [
    "#### Specify name of package \n",
    "\n",
    "Specify a code name. \n",
    "\n",
    "Use a \"-\" dash and not an \"_\" underscore for specfem\n",
    "\n",
    "We may wish to specify \"comprehensive\" too. However, this currently takes a long time to run \n",
    "as more bots need to be cleaned."
   ]
  },
  {
   "cell_type": "code",
   "execution_count": null,
   "metadata": {},
   "outputs": [],
   "source": [
    "PACKAGE_NAM = \"aspect\"\n",
    "# PACKAGE_NAM = \"pylith\"\n",
    "\n",
    "# Print some useful information\n",
    "print(HIT_DB_NAME,LOCATION_DB_NAME, PACKAGE_NAM)"
   ]
  },
  {
   "cell_type": "markdown",
   "metadata": {},
   "source": [
    "## Set parameters\n",
    "\n",
    "### Date Range\n",
    "Set start and end times for the data to be plotted. \n",
    "\n",
    "If none is specify, the default is for the start of UNIX epoch time (January 1, 1970) to current date.\n",
    "\n",
    "Database contains download counts from approximately 2012-2021.\n"
   ]
  },
  {
   "cell_type": "code",
   "execution_count": null,
   "metadata": {},
   "outputs": [],
   "source": [
    "# START_TIME and END_TIME must be in UNIX epoch format (seconds since Jan 1 1970)\n",
    "\n",
    "# Set default time to the beginning of time Jan 1 1970\n",
    "START_TIME = datetime.datetime.fromtimestamp(0)\n",
    "#START_TIME = datetime.datetime.strptime('01/01/12 00:00:01', '%m/%d/%y %H:%M:%S')\n",
    "\n",
    "# To change the default start time, replace MM/DD/YY HH:MM:SS with target time\n",
    "#START_TIME = datetime.datetime.strptime('MM/DD/YY HH:MM:SS', '%m/%d/%y %H:%M:%S')\n",
    "\n",
    "# Set end time to current time. \n",
    "END_TIME = datetime.datetime.now()\n",
    "\n",
    "# To change the default end time, replace MM/DD/YY HH:MM:SS with target time\n",
    "# END_TIME = datetime.datetime.strptime('MM/DD/YY HH:MM:SS', '%m/%d/%y %H:%M:%S')\n",
    "\n",
    "# Print some useful information\n",
    "print(START_TIME, END_TIME)"
   ]
  },
  {
   "cell_type": "markdown",
   "metadata": {},
   "source": [
    "## Read and create map data\n",
    "\n",
    "###  Legacy data\n",
    "\n",
    "Skip this section if you are NOT using legacy data.\n",
    "\n",
    "#### Read in raw data"
   ]
  },
  {
   "cell_type": "code",
   "execution_count": null,
   "metadata": {},
   "outputs": [],
   "source": [
    "# Get the IP numbers associated with a given package\n",
    "ip_nums = lookup_hits(HIT_DB_NAME, PACKAGE_NAM, START_TIME, END_TIME)\n",
    "\n",
    "# Inspect ip_nums if you are looking for more bots\n",
    "# print (ip_nums)\n",
    "\n",
    "print(\"Found\", len(ip_nums), \"hits associated with package\", PACKAGE_NAM)\n",
    "if len(ip_nums) == 0:\n",
    "     print(\"Cannot generate plot for\", PACKAGE_NAM)\n",
    "\n",
    "# Locate the corresponding lat/lon points\n",
    "locs = ip_nums_to_locations(LOCATION_DB_NAME, ip_nums)\n",
    "print(\"Checked\", len(ip_nums), \"IPs, found\", len(locs), \"locations.\")\n",
    "\n",
    "if len(locs) == 0:\n",
    "    print(\"Cannot generate plot for\", PACKAGE_NAM)\n"
   ]
  },
  {
   "cell_type": "markdown",
   "metadata": {},
   "source": [
    "####  Create  map data\n"
   ]
  },
  {
   "cell_type": "code",
   "execution_count": null,
   "metadata": {},
   "outputs": [],
   "source": [
    "# Get the data and store in dictionary, with key as IP and value as frequency of that IP\n",
    "dictionary = {i:locs.count(i) for i in locs}\n",
    "\n",
    "# Convert the dictionary to a dataframe\n",
    "df = pd.DataFrame(dictionary.items(), columns=['latlon', 'freq'])\n",
    "\n",
    "# Create a new dataframe to separate the latitude and the longitude, which are in a tuple together\n",
    "df2 = pd.DataFrame(df['latlon'].tolist(), columns=['lat', 'lon'])\n",
    "\n",
    "# Append the frequency to the new dataframe\n",
    "df2['freq'] = df['freq']"
   ]
  },
  {
   "cell_type": "markdown",
   "metadata": {},
   "source": [
    "### For data beginning in 2023\n",
    "\n",
    "The following will import json data from Tool Stats on https://geodynamics.org and append it to the legacy data if not empty.\n",
    "\n",
    "Modify filename as needed.\n",
    "\n",
    "Note that this is code package name agnostic. It is recommended that you rename the data filename using the code package name."
   ]
  },
  {
   "cell_type": "code",
   "execution_count": null,
   "metadata": {},
   "outputs": [],
   "source": [
    "# monthlyCountList used for Tool Statistics (Downloads, Redirect Counts)\n",
    "\n",
    "# Open and load the data\n",
    "f = open('json/monthlyCountList.json')\n",
    "monthly_count_list_data = json.load(f)\n",
    "\n",
    "# Convert the original data to a dataframe\n",
    "dat = monthly_count_list_data['world_map_list']\n",
    "df = pd.DataFrame(dat)\n",
    "\n",
    "# Check whether each IP is within the specified date range\n",
    "for i in range (0, len(df)):\n",
    "    if (datetime.datetime.strptime(str(df['date_download'][i]), '%Y-%m-%d %H:%M:%S') < START_TIME):\n",
    "        df = df.drop(i)\n",
    "    elif (datetime.datetime.strptime(str(df['date_download'][i]), '%Y-%m-%d %H:%M:%S') > END_TIME):\n",
    "        df = df.drop(i)\n",
    "\n",
    "# Get the duplicate entires that contain the same ip_lat, ip_long, city, and region, and the count of each duplicate entry\n",
    "df3 = df.pivot_table(index = ['ip_lat', 'ip_long', 'city', 'region'], aggfunc ='size')\n",
    "\n",
    "# Convert the pivot_table to a dataframe for easier manipulation\n",
    "df3 = df3.reset_index()\n",
    "df3.rename(columns={'ip_lat': 'lat', 'ip_long': 'lon', 0:'freq'}, inplace=True)\n",
    "df3 = df3.drop('city', axis=1)\n",
    "df3 = df3.drop('region', axis=1)\n",
    "\n",
    "# Check whether the data from the database is empty; if not, combine both sets of data\n",
    "if len(locs) == 0:\n",
    "    df2 = df3\n",
    "else:\n",
    "    df2 = pd.concat([df2, df3], axis=0, ignore_index=True)\n",
    "\n",
    "if len(df2) == 0:\n",
    "    print(\"Cannot generate plot. No data found.\")"
   ]
  },
  {
   "cell_type": "markdown",
   "metadata": {},
   "source": [
    "## Plot\n",
    "\n",
    "Several ways are presented below to plot your map data. We could not decide what we liked best but we know they all could use improvements.\n",
    "\n",
    "### scattergeo\n",
    "\n",
    "Use this one for formatted hovertext."
   ]
  },
  {
   "cell_type": "code",
   "execution_count": null,
   "metadata": {},
   "outputs": [],
   "source": [
    "# define some map parameters\n",
    "max = df2['freq'].max()   # This is used to normalize the size of the marker\n",
    "scale = 50                # The marker needs to be scaled up to be visible after normalizing\n",
    "min_size = 5              # If the range of values is too large, the smallest marker needs a minimum size\n",
    "max_value = 20            # Maximum value for color scale\n",
    "\n"
   ]
  },
  {
   "cell_type": "code",
   "execution_count": null,
   "metadata": {
    "scrolled": true
   },
   "outputs": [],
   "source": [
    "\n",
    "import plotly.graph_objects as go\n",
    "\n",
    "fig =  go.Figure(\n",
    "                data = go.Scattergeo(\n",
    "                         lat=df2['lat'], \n",
    "                         lon=df2['lon'], \n",
    "                         hovertext = df2['freq'],\n",
    "                         marker = dict(\n",
    "                             colorscale = 'Earth', #Blackbody,Bluered,Blues,Cividis,Earth,Electric,Greens,Greys,Hot,Jet,Picnic,Portland,Rainbow,RdBu,Reds,Viridis,YlGnBu,YlOrRd\n",
    "                             cmax = max_value,\n",
    "                             cmin = 0,\n",
    "                             color = df2['freq'],\n",
    "                             size=df2['freq'] / max * scale,\n",
    "                             colorbar_title = \"Count\",\n",
    "                             line = dict(color='gray', width=0)   #symbol border color and width.\n",
    "                         )                     \n",
    "                        )\n",
    "                )\n",
    "\n",
    "fig.update_traces(marker_sizemin=min_size) \n",
    "\n",
    "# Note that the START_TIME and END_TIME is user specified and do not correpond to the actual\n",
    "# range of data in your input file\n",
    "#\n",
    "# fig.update_layout(\n",
    "#        title = 'Downloads: ' +  PACKAGE_NAM + ' ' + str(START_TIME) + ' to ' +str(END_TIME)\n",
    "#   )\n",
    "#\n",
    "fig.update_layout(\n",
    "        title = 'Downloads: ' +  PACKAGE_NAM\n",
    "    )\n",
    "fig.show()\n",
    "\n"
   ]
  },
  {
   "cell_type": "markdown",
   "metadata": {},
   "source": [
    "### Map Options\n",
    "\n",
    "The next 2 options use plotly.express\n",
    "\n",
    "Note that using hovertemplate in the following fashion caused lat lat to be mapped incorrectly \n",
    "into the hover box in some cases e.g.\n",
    "\n",
    "    fig.update_traces(hovertemplate = \"(\" + df2['lat'].apply(str) + \", \" + df2['lon'].apply(str) + \"): \" + df2['freq'].apply(str));\n",
    "\n",
    "Legend:\n",
    "1. Range - choose the interval length (ex. 200 => 0-200, 200-400, etc.); discrete colors, uses `color_discrete_sequence`\n",
    "2. Frequency - heat gradient; continuous color, uses `color_continuous_scale`\n",
    "\n",
    "The color sequence can be chosen in one of the following ways:\n",
    "1. A list of colors (ex. `['orange', 'red', '#00D']`)\n",
    "2. Plotly's built-in color sequences. See [Color Sequences in Plotly Express](https://plotly.com/python/discrete-color/) (ex. `px.colors.qualitative.G10`)\n"
   ]
  },
  {
   "cell_type": "code",
   "execution_count": null,
   "metadata": {},
   "outputs": [],
   "source": [
    "# Map Options\n",
    "\n",
    "# Set as either 'range' or 'freq'. The default is 'range' with an interval of 200.\n",
    "legend = 'range'\n",
    "#legend = 'freq'\n",
    "interval = 200\n",
    "\n",
    "# Set colors to preferred color palette. Set colors to a list of colors or a built-in Plotly sequence.\n",
    "#colors = px.colors.qualitative.Pastel1\n",
    "colors = px.colors.qualitative.Plotly\n",
    "\n",
    "# Calculates the points in each range by taking the interval number and creating a new column 'ranges' that places that latlon in the corresponding range\n",
    "ranges = []\n",
    "for i in range (0, len(df2)):\n",
    "    ranges.append(str((df2.loc[i]['freq'] // interval)*interval) + \" - \" + str((df2.loc[i]['freq'] // interval + 1)*interval))\n",
    "df2['range'] = ranges\n"
   ]
  },
  {
   "cell_type": "code",
   "execution_count": null,
   "metadata": {},
   "outputs": [],
   "source": [
    "# Plot using scatter_geo\n",
    "\n",
    "\n",
    "if (legend == 'range'):\n",
    "    fig = px.scatter_geo(df2,\n",
    "                         lat='lat', \n",
    "                         lon='lon', \n",
    "                         size='freq', \n",
    "                         title='Hitmap (Geo)', \n",
    "                         color=legend, \n",
    "                         color_discrete_sequence=colors\n",
    "                        )\n",
    "else:\n",
    "    fig = px.scatter_geo(df2,\n",
    "                         lat='lat', \n",
    "                         lon='lon', \n",
    "                         size='freq', \n",
    "                         title='Hitmap (Geo)', \n",
    "                         color=legend, \n",
    "                         color_continuous_scale=colors\n",
    "                        )\n",
    "\n",
    "fig.show()"
   ]
  },
  {
   "cell_type": "code",
   "execution_count": null,
   "metadata": {},
   "outputs": [],
   "source": [
    "# Plot using scatter_mapbox, with open-street-map as the default.\n",
    "\n",
    "if (legend == 'range'):\n",
    "    fig = px.scatter_mapbox(df2,lat='lat', lon='lon', size='freq', zoom=0.5, center=dict(lon=0, lat=0), mapbox_style=\"open-street-map\", title='Hitmap (Mapbox)', color=legend, color_discrete_sequence=colors)\n",
    "else:\n",
    "    fig = px.scatter_mapbox(df2,lat='lat', lon='lon', size='freq', zoom=0.5, center=dict(lon=0, lat=0), mapbox_style=\"open-street-map\", title='Hitmap (Mapbox)', color=legend, color_continuous_scale=colors)\n",
    "\n",
    "# To change the style of the mapbox, uncomment any of the following lines:\n",
    "#fig.update_layout(mapbox_style=\"carto-positron\")\n",
    "#fig.update_layout(mapbox_style=\"carto-darkmatter\")\n",
    "#fig.update_layout(mapbox_style=\"stamen-terrain\")\n",
    "#fig.update_layout(mapbox_style=\"stamen-toner\")\n",
    "\n",
    "fig.update_traces(marker_sizemin=10, selector=dict(type='scatter')) \n",
    "fig.show()"
   ]
  },
  {
   "cell_type": "markdown",
   "metadata": {},
   "source": [
    "# Some useful python for debuggin"
   ]
  },
  {
   "cell_type": "code",
   "execution_count": null,
   "metadata": {},
   "outputs": [],
   "source": [
    "# Display all the rows of a dataframe\n",
    "with pd.option_context('display.max_rows', None,\n",
    "                      'display.max_columns', None,\n",
    "                      'display.precision', 3,\n",
    "                       ):\n",
    "   print(df2)"
   ]
  },
  {
   "cell_type": "markdown",
   "metadata": {},
   "source": [
    "You can use this to create an ordered list of IP addresses in decimal format and the assocaited number of downloads.\n",
    "\n",
    "You can convert here:\n",
    "    \n",
    "   [https://www.ipaddressguide.com/ip](https://www.ipaddressguide.com)\n",
    "    \n",
    "And look up here:\n",
    "\n",
    "   [https://whatismyipaddress.com/ip-lookup](https://whatismyipaddress.com/ip-lookup)\n",
    "    \n",
    "Note that more than one IP address may geolocate to the same location"
   ]
  },
  {
   "cell_type": "code",
   "execution_count": null,
   "metadata": {},
   "outputs": [],
   "source": [
    "pd.set_option('display.max_rows', None)\n",
    "pd.Series(ip_nums).value_counts()"
   ]
  },
  {
   "cell_type": "code",
   "execution_count": null,
   "metadata": {},
   "outputs": [],
   "source": []
  }
 ],
 "metadata": {
  "kernelspec": {
   "display_name": "Python 3 (ipykernel)",
   "language": "python",
   "name": "python3"
  },
  "language_info": {
   "codemirror_mode": {
    "name": "ipython",
    "version": 3
   },
   "file_extension": ".py",
   "mimetype": "text/x-python",
   "name": "python",
   "nbconvert_exporter": "python",
   "pygments_lexer": "ipython3",
   "version": "3.9.7"
  },
  "vscode": {
   "interpreter": {
    "hash": "f31d01998095cca85f56168904fccbdb0fa4f8e06d669060b0340b715c5d7401"
   }
  }
 },
 "nbformat": 4,
 "nbformat_minor": 4
}
