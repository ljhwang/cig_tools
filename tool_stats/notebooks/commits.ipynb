{
 "cells": [
  {
   "cell_type": "markdown",
   "id": "f64573ef",
   "metadata": {},
   "source": [
    " ## Commits\n",
    " \n",
    "Commits binned by month.\n",
    " \n",
    "<img title=\"Author Contributions\" alt=\"Author Contributions\" src=\"../images/commits.png\" width=\"60%\">\n",
    "\n",
    "### Dependencies\n",
    "\n",
    "Run the dependencies if you have not done so already."
   ]
  },
  {
   "cell_type": "code",
   "execution_count": null,
   "id": "2a4ad250",
   "metadata": {},
   "outputs": [],
   "source": [
    "# Import the libraries used for data, reading JSON, converting to csv\n",
    "import plotly.express as px\n",
    "import plotly.graph_objects as go\n",
    "import pandas as pd\n",
    "import json\n",
    "import csv\n",
    "\n",
    "# CIG colors - used for graphs\n",
    "colors = ['#1A3D59', '#00548A', '#007CBA', '#9A9400', '#6D3527', '#9F3122', '#D75E00', '#F98D29', '#B41782', '#EBAA20', '#E7417A']"
   ]
  },
  {
   "cell_type": "markdown",
   "id": "712eaffb",
   "metadata": {},
   "source": [
    "### Assign input and outfile filenames"
   ]
  },
  {
   "cell_type": "code",
   "execution_count": null,
   "id": "9cf5ad17",
   "metadata": {},
   "outputs": [],
   "source": [
    "INPUT_FILE = '../json/monthlyCommitCountList.json'\n",
    "OUTPUT_COMMITS = '../csv//commits.csv'"
   ]
  },
  {
   "cell_type": "markdown",
   "id": "58efbb74",
   "metadata": {},
   "source": [
    "### Load the data"
   ]
  },
  {
   "cell_type": "code",
   "execution_count": null,
   "id": "cb34e153",
   "metadata": {},
   "outputs": [],
   "source": [
    "# monthlyCommitCountList used for Repository Statistics (Lifetime Statistics, Author Contributions, Commits)\n",
    "# Open and load the data\n",
    "f = open(INPUT_FILE)\n",
    "monthly_commit_count_list_data = json.load(f)\n",
    "\n",
    "# Contributors under monthlyCommitCountList\n",
    "dat = monthly_commit_count_list_data['monthly_commit_count']"
   ]
  },
  {
   "cell_type": "code",
   "execution_count": null,
   "id": "879bf25e",
   "metadata": {},
   "outputs": [],
   "source": [
    "# Convert the original data to a dataframe\n",
    "\n",
    "df = pd.DataFrame(dat.items(), columns=['month', 'commit_count'])\n",
    "\n",
    "# Create a bar graph using Plotly, with date as x-axis and commit count as y-axis\n",
    "# Plotly takes a list of colors and uses the first one\n",
    "fig = px.bar(df, x='month', y='commit_count', color_discrete_sequence=colors, title='Commits')\n",
    "# Change the hovertext to show (month, commit_count)\n",
    "fig.update_traces(hovertemplate = \"(%{label}, %{value})\")\n",
    "fig.update_layout(\n",
    "    xaxis_title_text = 'month', \n",
    "    yaxis_title_text = 'count'\n",
    "    )"
   ]
  },
  {
   "cell_type": "markdown",
   "id": "620a752f",
   "metadata": {},
   "source": [
    "#### *Optional*: Set min max dates"
   ]
  },
  {
   "cell_type": "code",
   "execution_count": null,
   "id": "1735cdcf",
   "metadata": {},
   "outputs": [],
   "source": [
    "#Specify min, max range\n",
    "fig.update_xaxes(   \n",
    "                 calendar='gregorian', \n",
    "                 range=['2020-12-01', '2022-01-30'],)\n",
    "fig.update_yaxes(range=[0,400])\n",
    "   \n",
    "# Display figure\n",
    "fig.show()"
   ]
  },
  {
   "cell_type": "markdown",
   "id": "64c9162c",
   "metadata": {},
   "source": [
    "#### *Optional*: Write to csv "
   ]
  },
  {
   "cell_type": "code",
   "execution_count": null,
   "id": "0ad22fe1",
   "metadata": {},
   "outputs": [],
   "source": [
    "# Create new csv file if it does not exist, then create writer for it\n",
    "data_file = open(OUTPUT_COMMITS, 'w')\n",
    "csv_writer = csv.writer(data_file)\n",
    " \n",
    "# Write the headers into the file \n",
    "header = [\"month\", \"commit_count\"]\n",
    "csv_writer.writerow(header)\n",
    "\n",
    "# Convert each key/value pair in the dict to a list\n",
    "dat = list(dat.items())\n",
    "\n",
    "for d in dat:\n",
    "    # Writing each row value of to the CSV file\n",
    "    csv_writer.writerow(d)\n",
    " \n",
    "data_file.close()"
   ]
  }
 ],
 "metadata": {
  "kernelspec": {
   "display_name": "Python 3 (ipykernel)",
   "language": "python",
   "name": "python3"
  },
  "language_info": {
   "codemirror_mode": {
    "name": "ipython",
    "version": 3
   },
   "file_extension": ".py",
   "mimetype": "text/x-python",
   "name": "python",
   "nbconvert_exporter": "python",
   "pygments_lexer": "ipython3",
   "version": "3.9.7"
  }
 },
 "nbformat": 4,
 "nbformat_minor": 5
}
