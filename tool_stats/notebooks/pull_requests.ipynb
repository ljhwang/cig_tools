{
 "cells": [
  {
   "cell_type": "markdown",
   "id": "f64573ef",
   "metadata": {},
   "source": [
    " ## Pull Requests\n",
    " \n",
    "Pull Requests binned by month.\n",
    " \n",
    "<img title=\"Author Contributions\" alt=\"Author Contributions\" src=\"../images/pull.png\" width=\"60%\">\n",
    "\n",
    "### Dependencies\n",
    "\n",
    "Run the dependencies if you have not done so already."
   ]
  },
  {
   "cell_type": "code",
   "execution_count": null,
   "id": "2a4ad250",
   "metadata": {},
   "outputs": [],
   "source": [
    "# Import the libraries used for data, reading JSON, converting to csv\n",
    "import plotly.express as px\n",
    "import plotly.graph_objects as go\n",
    "import pandas as pd\n",
    "import json\n",
    "import csv\n",
    "\n",
    "# CIG colors - used for graphs\n",
    "colors = ['#1A3D59', '#00548A', '#007CBA', '#9A9400', '#6D3527', '#9F3122', '#D75E00', '#F98D29', '#B41782', '#EBAA20', '#E7417A']"
   ]
  },
  {
   "cell_type": "markdown",
   "id": "712eaffb",
   "metadata": {},
   "source": [
    "### Assign input and outfile filenames"
   ]
  },
  {
   "cell_type": "code",
   "execution_count": null,
   "id": "9cf5ad17",
   "metadata": {},
   "outputs": [],
   "source": [
    "INPUT_FILE = '../json/monthlyIssueCountList-pull.json'\n",
    "OUTPUT_PULL = '../csv/monthly_pull_requests_only_count.csv'\n",
    "OUTPUT_PULL_CLOSED = '../csv/monthly_closed_pull_requests_count.csv.csv'\n",
    "OUTPUT_PULL_OPEN = '../csv/monthly_open_pull_requests_count.csv'"
   ]
  },
  {
   "cell_type": "markdown",
   "id": "58efbb74",
   "metadata": {},
   "source": [
    "### Load the data"
   ]
  },
  {
   "cell_type": "code",
   "execution_count": null,
   "id": "cb34e153",
   "metadata": {},
   "outputs": [],
   "source": [
    "# monthlyIssueCountList used for Repository Statistics (Issues)\n",
    "# Open and load the data\n",
    "f = open(INPUT_FILE)\n",
    "monthly_issue_count_list = json.load(f)\n",
    "\n",
    "# monthly_issues_only_count under monthlyIssueCountList\n",
    "month_data = monthly_issue_count_list['monthly_pull_requests_count']\n",
    "closed_data = monthly_issue_count_list['monthly_closed_pull_requests_count']\n",
    "open_data = monthly_issue_count_list['monthly_open_pull_requests_count']"
   ]
  },
  {
   "cell_type": "code",
   "execution_count": null,
   "id": "879bf25e",
   "metadata": {},
   "outputs": [],
   "source": [
    "# Convert the original data to a dataframe\n",
    "\n",
    "df1 = pd.DataFrame(month_data.items(), columns=['month', 'pull_count'])\n",
    "df2 = pd.DataFrame(closed_data.items(), columns=['month', 'pull_count'])\n",
    "df3 = pd.DataFrame(open_data.items(), columns=['month', 'pull_count'])\n",
    "dfs = {\"month\" : df1, \"closed\": df2, \"open\" : df3}\n",
    "\n",
    "# plot the data\n",
    "fig = go.Figure()\n",
    "fig.update_layout(title='Pull Requests')\n",
    "#fig.update_layout({'plot_bgcolor': 'rgba(0, 0, 0, 0)',})\n",
    "\n",
    "fig = fig.add_trace(go.Bar(x = df1[\"month\"], y = df1[\"pull_count\"], name='All PR', marker_color=colors[0]))\n",
    "fig = fig.add_trace(go.Bar(x = df2[\"month\"], y = df2[\"pull_count\"], name='Closed PR', marker_color=colors[2]))\n",
    "fig = fig.add_trace(go.Bar(x = df3[\"month\"], y = df3[\"pull_count\"], name='Open IPR', marker_color=colors[5]))\n",
    "\n",
    "fig.update_layout(\n",
    "    xaxis_title_text = 'month', \n",
    "    yaxis_title_text = 'count'\n",
    "    )\n",
    "\n",
    "fig.show()\n"
   ]
  },
  {
   "cell_type": "markdown",
   "id": "620a752f",
   "metadata": {},
   "source": [
    "#### *Optional*: Set min max dates"
   ]
  },
  {
   "cell_type": "code",
   "execution_count": null,
   "id": "1735cdcf",
   "metadata": {},
   "outputs": [],
   "source": [
    "#Specify min, max range\n",
    "fig.update_xaxes(   \n",
    "                 calendar='gregorian', \n",
    "                 range=['2020-12-01', '2022-01-30'],)\n",
    "fig.update_yaxes(range=[0,200])\n",
    "   \n",
    "# Display figure\n",
    "fig.show()"
   ]
  },
  {
   "cell_type": "markdown",
   "id": "64c9162c",
   "metadata": {},
   "source": [
    "#### *Optional*: Write to csv \n",
    "**All PRs**"
   ]
  },
  {
   "cell_type": "code",
   "execution_count": null,
   "id": "0ad22fe1",
   "metadata": {},
   "outputs": [],
   "source": [
    "# Create new csv file if it does not exist, then create writer for it\n",
    "data_file = open(OUTPUT_PULL, 'w')\n",
    "csv_writer = csv.writer(data_file)\n",
    " \n",
    "# Write the headers into the file \n",
    "header = [\"month\", \"pull_count\"]\n",
    "csv_writer.writerow(header)\n",
    "\n",
    "# Convert each key/value pair in the dict to\"issue_count\" a list\n",
    "dat = list(month_data.items())\n",
    "\n",
    "for d in dat:\n",
    "    # Writing each row value of to the CSV file\n",
    "    csv_writer.writerow(d)\n",
    " \n",
    "data_file.close()"
   ]
  },
  {
   "cell_type": "markdown",
   "id": "ee6dfe0a",
   "metadata": {},
   "source": [
    "**Open PRs**"
   ]
  },
  {
   "cell_type": "code",
   "execution_count": null,
   "id": "0adc9545",
   "metadata": {},
   "outputs": [],
   "source": [
    "# Create new csv file if it does not exist, then create writer for it\n",
    "data_file = open(OUTPUT_PULL_OPEN, 'w')\n",
    "csv_writer = csv.writer(data_file)\n",
    " \n",
    "# Write the headers into the file \n",
    "header = [\"month\", \"pull_count\"]\n",
    "csv_writer.writerow(header)\n",
    "\n",
    "# Convert each key/value pair in the dict to\"issue_count\" a list\n",
    "dat = list(open_data.items())\n",
    "\n",
    "for d in dat:\n",
    "    # Writing each row value of to the CSV file\n",
    "    csv_writer.writerow(d)\n",
    " \n",
    "data_file.close()"
   ]
  },
  {
   "cell_type": "markdown",
   "id": "e24b790d",
   "metadata": {},
   "source": [
    "**Closed PRs**"
   ]
  },
  {
   "cell_type": "code",
   "execution_count": null,
   "id": "2e6d084c",
   "metadata": {},
   "outputs": [],
   "source": [
    "# Create new csv file if it does not exist, then create writer for it\n",
    "data_file = open(OUTPUT_PULL_CLOSED, 'w')\n",
    "csv_writer = csv.writer(data_file)\n",
    " \n",
    "# Write the headers into the file \n",
    "header = [\"month\", \"pull_count\"]\n",
    "csv_writer.writerow(header)\n",
    "\n",
    "# Convert each key/value pair in the dict to\"issue_count\" a list\n",
    "dat = list(closed_data.items())\n",
    "\n",
    "for d in dat:\n",
    "    # Writing each row value of to the CSV file\n",
    "    csv_writer.writerow(d)\n",
    " \n",
    "data_file.close()"
   ]
  }
 ],
 "metadata": {
  "kernelspec": {
   "display_name": "Python 3 (ipykernel)",
   "language": "python",
   "name": "python3"
  },
  "language_info": {
   "codemirror_mode": {
    "name": "ipython",
    "version": 3
   },
   "file_extension": ".py",
   "mimetype": "text/x-python",
   "name": "python",
   "nbconvert_exporter": "python",
   "pygments_lexer": "ipython3",
   "version": "3.9.7"
  }
 },
 "nbformat": 4,
 "nbformat_minor": 5
}
