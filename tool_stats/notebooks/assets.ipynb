{
 "cells": [
  {
   "cell_type": "markdown",
   "id": "f64573ef",
   "metadata": {},
   "source": [
    " ## Asset Downloads\n",
    " \n",
    " Author contributions as total number of commits.\n",
    " \n",
    "<img title=\"Asset Downloads\" alt=\"Asset Downloads\" src=\"../images/assets.png\" width=\"60%\">\n",
    "\n",
    "### Dependencies\n",
    "\n",
    "Run the dependencies if you have not done so already."
   ]
  },
  {
   "cell_type": "code",
   "execution_count": null,
   "id": "2a4ad250",
   "metadata": {},
   "outputs": [],
   "source": [
    "# Import the libraries used for data, reading JSON, converting to csv\n",
    "import plotly.express as px\n",
    "import plotly.graph_objects as go\n",
    "import pandas as pd\n",
    "import json\n",
    "import csv\n",
    "\n",
    "# CIG colors - used for graphs\n",
    "colors = ['#1A3D59', '#00548A', '#007CBA', '#9A9400', '#6D3527', '#9F3122', '#D75E00', '#F98D29', '#B41782', '#EBAA20', '#E7417A']"
   ]
  },
  {
   "cell_type": "markdown",
   "id": "712eaffb",
   "metadata": {},
   "source": [
    "### Assign input and outfile filenames"
   ]
  },
  {
   "cell_type": "code",
   "execution_count": null,
   "id": "9cf5ad17",
   "metadata": {},
   "outputs": [],
   "source": [
    "INPUT_FILE = '../json/releasesCountList.json'\n",
    "OUTPUT_ASSETS = '../csv/releases_count_list.csv'"
   ]
  },
  {
   "cell_type": "markdown",
   "id": "58efbb74",
   "metadata": {},
   "source": [
    "### Load the data"
   ]
  },
  {
   "cell_type": "code",
   "execution_count": null,
   "id": "cb34e153",
   "metadata": {},
   "outputs": [],
   "source": [
    "# monthlyCommitCountList used for Repository Statistics (Lifetime Statistics, Author Contributions, Commits)\n",
    "# Open and load the data\n",
    "f = open(INPUT_FILE)\n",
    "releases_count_list = json.load(f)\n",
    "\n",
    "# Get releases\n",
    "dat = releases_count_list['releases']"
   ]
  },
  {
   "cell_type": "code",
   "execution_count": null,
   "id": "879bf25e",
   "metadata": {},
   "outputs": [],
   "source": [
    "# Convert the original data to a dataframe\n",
    "\n",
    "df = pd.DataFrame(dat, columns=['tag_name', 'asset_download_count'])\n",
    "\n",
    "# Plot pie chart using Plotly - values are the number of downloads\n",
    "# Color sequence - Plotly does not allow for repetition of one list of colors, so we must repeat it manually with calculations:\n",
    "# 11 colors, so get the length of the dataframe / 11 and multiply the list of colors by that length to repeat it\n",
    "# Add the remainder colors using % 11 to the list \n",
    "fig = px.pie(df, values='asset_download_count', names='tag_name', color_discrete_sequence=(colors*int(len(df) / 11) + colors[0:(len(df) % 11)]), title='Releases - Asset Downloads')\n",
    "# Traces - text inside the pie with values (not percentage), hover popup contains version, downloads, percent\n",
    "fig.update_traces(textposition='inside', textinfo='value', hovertemplate = \"%{label}<br>%{value}<br>%{percent}\")\n",
    "# Display figure\n",
    "fig.show()"
   ]
  },
  {
   "cell_type": "code",
   "execution_count": null,
   "id": "cd956bf4",
   "metadata": {},
   "outputs": [],
   "source": [
    "# No longer items - takes list of dicts and converts to dataframe based on keys listed (columns)\n",
    "df = pd.DataFrame(dat, columns=['tag_name', 'author_login', 'release_url', 'created_at', 'asset_download_count'])\n",
    "fig = go.Figure(data=[go.Table(\n",
    "    header=dict(values=list(['Release Tag Name', 'Author', 'Creation Date', 'Asset Download Count']),\n",
    "                align='center'),\n",
    "    cells=dict(values=[df.tag_name, df.author_login, df.created_at, df.asset_download_count],\n",
    "               align='center'''))\n",
    "])\n",
    "fig.show()"
   ]
  },
  {
   "cell_type": "markdown",
   "id": "64c9162c",
   "metadata": {},
   "source": [
    "#### *Optional*: Write to csv "
   ]
  },
  {
   "cell_type": "code",
   "execution_count": null,
   "id": "0ad22fe1",
   "metadata": {},
   "outputs": [],
   "source": [
    "# Create new csv file if it does not exist, then create writer for it\n",
    "data_file = open(OUTPUT_ASSETS, 'w')\n",
    "csv_writer = csv.writer(data_file)\n",
    " \n",
    "# Write the headers into the file \n",
    "header = dat[0].keys()\n",
    "csv_writer.writerow(header)\n",
    "\n",
    "\n",
    "\n",
    "for d in dat:\n",
    "  # Writing each row value of to the CSV file\n",
    "    # This and Releases are different from the other JSON files because there are nested dicts\n",
    "    csv_writer.writerow(d.values())\n",
    " \n",
    "data_file.close()"
   ]
  }
 ],
 "metadata": {
  "kernelspec": {
   "display_name": "Python 3 (ipykernel)",
   "language": "python",
   "name": "python3"
  },
  "language_info": {
   "codemirror_mode": {
    "name": "ipython",
    "version": 3
   },
   "file_extension": ".py",
   "mimetype": "text/x-python",
   "name": "python",
   "nbconvert_exporter": "python",
   "pygments_lexer": "ipython3",
   "version": "3.9.7"
  }
 },
 "nbformat": 4,
 "nbformat_minor": 5
}
