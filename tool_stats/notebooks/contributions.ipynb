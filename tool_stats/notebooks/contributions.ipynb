{
 "cells": [
  {
   "cell_type": "markdown",
   "id": "f64573ef",
   "metadata": {},
   "source": [
    " ## Author Contributions\n",
    " \n",
    " Author contributions as total number of commits.\n",
    " \n",
    "<img title=\"Author Contributions\" alt=\"Author Contributions\" src=\"../images/contributions.png\" width=\"60%\">\n",
    "\n",
    "### Dependencies\n",
    "\n",
    "Run the dependencies if you have not done so already."
   ]
  },
  {
   "cell_type": "code",
   "execution_count": null,
   "id": "2a4ad250",
   "metadata": {},
   "outputs": [],
   "source": [
    "# Import the libraries used for data, reading JSON, converting to csv\n",
    "import plotly.express as px\n",
    "import plotly.graph_objects as go\n",
    "import pandas as pd\n",
    "import json\n",
    "import csv\n",
    "\n",
    "# CIG colors - used for graphs\n",
    "colors = ['#1A3D59', '#00548A', '#007CBA', '#9A9400', '#6D3527', '#9F3122', '#D75E00', '#F98D29', '#B41782', '#EBAA20', '#E7417A']"
   ]
  },
  {
   "cell_type": "markdown",
   "id": "712eaffb",
   "metadata": {},
   "source": [
    "### Assign input and outfile filenames"
   ]
  },
  {
   "cell_type": "code",
   "execution_count": null,
   "id": "9cf5ad17",
   "metadata": {},
   "outputs": [],
   "source": [
    "INPUT_FILE = '../json/monthlyCommitCountList.json'\n",
    "OUTPUT_CONTRIBUTORS = '../csv//contributors.csv'"
   ]
  },
  {
   "cell_type": "markdown",
   "id": "58efbb74",
   "metadata": {},
   "source": [
    "### Load the data"
   ]
  },
  {
   "cell_type": "code",
   "execution_count": null,
   "id": "cb34e153",
   "metadata": {},
   "outputs": [],
   "source": [
    "# monthlyCommitCountList used for Repository Statistics (Lifetime Statistics, Author Contributions, Commits)\n",
    "# Open and load the data\n",
    "f = open(INPUT_FILE)\n",
    "monthly_commit_count_list_data = json.load(f)\n",
    "\n",
    "# Contributors under monthlyCommitCountList\n",
    "dat = monthly_commit_count_list_data['contributors'] "
   ]
  },
  {
   "cell_type": "code",
   "execution_count": null,
   "id": "879bf25e",
   "metadata": {},
   "outputs": [],
   "source": [
    "# Convert the original data to a dataframe\n",
    "\n",
    "df = pd.DataFrame(dat.items(), columns=['user', 'contributions'])\n",
    "\n",
    "# Plot pie chart using Plotly - values are the number of contributions each user had\n",
    "# Color sequence - Plotly does not allow for repetition of one list of colors, so we must repeat it manually with calculations:\n",
    "# 11 colors, so get the length of the dataframe / 11 and multiply the list of colors by that length to repeat it\n",
    "# Add the remainder colors using % 11 to the list \n",
    "fig = px.pie(df, values='contributions', names='user', color_discrete_sequence=(colors*int(len(df) / 11) + colors[0:(len(df) % 11)]), title='Author Contributions - commits')\n",
    "# Traces - text inside the pie with values (not percentage), hover popup contains user, contributions, percent\n",
    "fig.update_traces(textposition='inside', textinfo='value', hovertemplate = \"%{label}<br>%{value}<br>%{percent}\")\n",
    "# Display figure\n",
    "fig.show()"
   ]
  },
  {
   "cell_type": "markdown",
   "id": "64c9162c",
   "metadata": {},
   "source": [
    "#### *Optional*: Write to csv "
   ]
  },
  {
   "cell_type": "code",
   "execution_count": null,
   "id": "0ad22fe1",
   "metadata": {},
   "outputs": [],
   "source": [
    "# Create new csv file if it does not exist, then create writer for it\n",
    "data_file = open(OUTPUT_CONTRIBUTORS, 'w')\n",
    "csv_writer = csv.writer(data_file)\n",
    " \n",
    "# Write the headers into the file \n",
    "header = [\"user\", \"contributions\"]\n",
    "csv_writer.writerow(header)\n",
    "\n",
    "# Convert each key/value pair in the dict to a list\n",
    "dat = list(dat.items())\n",
    "\n",
    "for d in dat:\n",
    "    # Writing each row value of to the CSV file\n",
    "    csv_writer.writerow(d)\n",
    " \n",
    "data_file.close()"
   ]
  }
 ],
 "metadata": {
  "kernelspec": {
   "display_name": "Python 3 (ipykernel)",
   "language": "python",
   "name": "python3"
  },
  "language_info": {
   "codemirror_mode": {
    "name": "ipython",
    "version": 3
   },
   "file_extension": ".py",
   "mimetype": "text/x-python",
   "name": "python",
   "nbconvert_exporter": "python",
   "pygments_lexer": "ipython3",
   "version": "3.9.7"
  }
 },
 "nbformat": 4,
 "nbformat_minor": 5
}
