{
 "cells": [
  {
   "cell_type": "markdown",
   "id": "dfdf8da5-69cc-4ed5-a1ba-9a29160f0717",
   "metadata": {},
   "source": [
    "## Download Maps\n",
    "\n",
    "Converts download and redirect data to .csv files and plots redirect data.  \n",
    "\n",
    "This does not plot a map. See [map_plot.ipynb](map_plot.ipynb).\n",
    "\n",
    "### Dependencies\n",
    "\n",
    "Run the dependencies if you have not done so already."
   ]
  },
  {
   "cell_type": "code",
   "execution_count": null,
   "id": "cc6c73f4",
   "metadata": {},
   "outputs": [],
   "source": [
    "# Import the libraries used for data, reading JSON, converting to csv\n",
    "import plotly.express as px\n",
    "import plotly.graph_objects as go\n",
    "import pandas as pd\n",
    "import json\n",
    "import csv\n",
    "\n",
    "# CIG colors - used for graphs\n",
    "colors = ['#1A3D59', '#00548A', '#007CBA', '#9A9400', '#6D3527', '#9F3122', '#D75E00', '#F98D29', '#B41782', '#EBAA20', '#E7417A']"
   ]
  },
  {
   "cell_type": "markdown",
   "id": "6bed1702",
   "metadata": {},
   "source": [
    "### Assign input and outfile filenames\n"
   ]
  },
  {
   "cell_type": "code",
   "execution_count": null,
   "id": "cd7a2677",
   "metadata": {},
   "outputs": [],
   "source": [
    "INPUT_FILE = '../json/monthlyCountList.json'\n",
    "OUTPUT_DOWNLOADS = '../csv/downloads.csv'\n",
    "OUTPUT_REDIRECTS = '../csv/monthlyRedirects.csv'"
   ]
  },
  {
   "cell_type": "markdown",
   "id": "e593ddba",
   "metadata": {},
   "source": [
    "### Load the data"
   ]
  },
  {
   "cell_type": "code",
   "execution_count": null,
   "id": "2721c856-5fc2-4694-a704-445229c93eba",
   "metadata": {},
   "outputs": [],
   "source": [
    "# Open and load the data\n",
    "f = open(INPUT_FILE,)\n",
    "monthly_count_list_data = json.load(f)\n",
    "\n",
    "# Get data under world_map_list\n",
    "dat = monthly_count_list_data['world_map_list']"
   ]
  },
  {
   "cell_type": "markdown",
   "id": "9dd5e6f6",
   "metadata": {},
   "source": [
    "### Downloads Data"
   ]
  },
  {
   "cell_type": "markdown",
   "id": "bd355406",
   "metadata": {},
   "source": [
    "#### *Optional*: Write to csv "
   ]
  },
  {
   "cell_type": "code",
   "execution_count": null,
   "id": "4e3b35eb-30a0-4659-beb9-69817fcec0ad",
   "metadata": {},
   "outputs": [],
   "source": [
    "# Create new csv file if it does not exist, then create writer for it\n",
    "data_file = open(OUTPUT_DOWNLOADS, 'w')\n",
    "csv_writer = csv.writer(data_file)\n",
    " \n",
    "# Write the headers into the file using the first row\n",
    "header = dat[0].keys()\n",
    "csv_writer.writerow(header)\n",
    "        \n",
    "for d in dat:\n",
    "    # Writing each row value of to the CSV file\n",
    "    # This and Releases are different from the other JSON files because there are nested dicts\n",
    "    csv_writer.writerow(d.values())\n",
    " \n",
    "data_file.close()"
   ]
  },
  {
   "cell_type": "markdown",
   "id": "9ac18586",
   "metadata": {},
   "source": [
    "### Redirects Data"
   ]
  },
  {
   "cell_type": "code",
   "execution_count": null,
   "id": "b8c9b9b3",
   "metadata": {},
   "outputs": [],
   "source": [
    "#load the redirect data under monthly_count\n",
    "dat = monthly_count_list_data['monthly_count']\n",
    "\n",
    "# Convert each key/value pair in the dict to a list\n",
    "dat = list(dat.items())"
   ]
  },
  {
   "cell_type": "markdown",
   "id": "ea9167ab",
   "metadata": {},
   "source": [
    "#### Plot"
   ]
  },
  {
   "cell_type": "code",
   "execution_count": null,
   "id": "0b5f8309",
   "metadata": {
    "scrolled": true
   },
   "outputs": [],
   "source": [
    "#load the redirect data under monthly_count\n",
    "dat = monthly_count_list_data['monthly_count']\n",
    "\n",
    "# Convert each key/value pair in the dict to a list\n",
    "dat = list(dat.items())\n",
    "\n",
    "df = pd.DataFrame(dat, columns=['date', 'count'])\n",
    "\n",
    "display(df)\n",
    "\n",
    "fig = px.histogram(df, \n",
    "                   x='date', \n",
    "                   y=\"count\", \n",
    "                   title=\"Redirects\", \n",
    "                  )\n",
    "fig.update_layout(\n",
    "    xaxis_title_text = 'date', \n",
    "    yaxis_title_text = 'count'\n",
    "    )\n",
    "fig.show()"
   ]
  },
  {
   "cell_type": "markdown",
   "id": "3b5eb22f",
   "metadata": {},
   "source": [
    "#### *Optional*: Write to csv"
   ]
  },
  {
   "cell_type": "code",
   "execution_count": null,
   "id": "3f2c182d-36f5-4a13-8698-277c19908459",
   "metadata": {},
   "outputs": [],
   "source": [
    "# Create new csv file if it does not exist in a csv folder, then create writer for it\n",
    "data_file = open(OUTPUT_REDIRECTS, 'w')\n",
    "csv_writer = csv.writer(data_file)\n",
    " \n",
    "# Write the headers into the file \n",
    "header = [\"month\", \"redirects\"]\n",
    "csv_writer.writerow(header)\n",
    "        \n",
    "for d in dat:\n",
    "    # Writing each row value of to the CSV file\n",
    "    csv_writer.writerow(d)\n",
    " \n",
    "data_file.close()"
   ]
  },
  {
   "cell_type": "code",
   "execution_count": null,
   "id": "2b6168ed",
   "metadata": {},
   "outputs": [],
   "source": []
  }
 ],
 "metadata": {
  "kernelspec": {
   "display_name": "Python 3 (ipykernel)",
   "language": "python",
   "name": "python3"
  },
  "language_info": {
   "codemirror_mode": {
    "name": "ipython",
    "version": 3
   },
   "file_extension": ".py",
   "mimetype": "text/x-python",
   "name": "python",
   "nbconvert_exporter": "python",
   "pygments_lexer": "ipython3",
   "version": "3.9.7"
  }
 },
 "nbformat": 4,
 "nbformat_minor": 5
}
