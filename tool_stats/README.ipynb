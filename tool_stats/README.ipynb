{
 "cells": [
  {
   "cell_type": "markdown",
   "id": "aa582a36",
   "metadata": {
    "tags": []
   },
   "source": [
    "<img title=\"tabs\" alt=\"software resource tabs\" src=\"images/tabs.png\">\n",
    "\n",
    "\n",
    "# Plot Tool Stats\n",
    "**Authors:** Denise Kwong and Lorraine Hwang, UC Davis\n",
    "\n",
    "\n",
    "## Description\n",
    "\n",
    "This notebook provides a starting point to customize plots from data downloaded from Tool Stats tab from the Software Downloads landing pages on geodynamics.org.\n",
    "\n",
    "Data is downloaded as a .json file and should be uploaded to the /json directory.\n",
    "\n",
    "### Directory Structure\n",
    "\n",
    "**Source files**\n",
    "\n",
    "* notebooks/<br>\n",
    "  Individual notebooks that are linked here.\n",
    "\n",
    "**Input files**\n",
    "\n",
    "* database/<br>\n",
    "    hit_database is the legacy download data from 2012-2021 <br>\n",
    "    ip_database is the data used to translate the legacy data decimal IPs to lat lon\n",
    "    \n",
    "* images/ <br>\n",
    "    Images used in this notebook.\n",
    "    \n",
    "* json / <br>\n",
    "    Recommended directory for downloaded json files.  \n",
    "    \n",
    "**Output files**\n",
    "\n",
    "* csv/ <br>\n",
    "    Recommended directory to write converted .csv files.  \n",
    "\n",
    "### Output \n",
    "\n",
    "Use the plotly snapshot tool to *Download plot as png*. Default file name is `newplot.png`\n",
    "\n",
    "You may also convert the .json files to .csv for export.  Files are written to /csv directory for download.\n",
    "\n",
    "## Contributing\n",
    "\n",
    "Help improve these plots for the community by contributing your changes to the repository.\n",
    "\n"
   ]
  },
  {
   "cell_type": "markdown",
   "id": "cae1e7d7",
   "metadata": {},
   "source": [
    "## Dependencies\n",
    "\n",
    "The following package msut be imported for all plots. These package are used in plotting, reading and converting data."
   ]
  },
  {
   "cell_type": "code",
   "execution_count": null,
   "id": "1839e480-1c55-4c81-8adb-0089f87bee50",
   "metadata": {},
   "outputs": [],
   "source": [
    "# Import the libraries used for data, reading JSON, converting to csv\n",
    "import plotly.express as px\n",
    "import plotly.graph_objects as go\n",
    "import pandas as pd\n",
    "import json\n",
    "import csv"
   ]
  },
  {
   "cell_type": "markdown",
   "id": "1a624ff3",
   "metadata": {},
   "source": [
    "The color palette is defined below."
   ]
  },
  {
   "cell_type": "code",
   "execution_count": null,
   "id": "59c28b00-27ef-4ff8-9de4-840db1f5f5a4",
   "metadata": {},
   "outputs": [],
   "source": [
    "# CIG colors - used for graphs\n",
    "colors = ['#1A3D59', '#00548A', '#007CBA', '#9A9400', '#6D3527', '#9F3122', '#D75E00', '#F98D29', '#B41782', '#EBAA20', '#E7417A']"
   ]
  },
  {
   "cell_type": "markdown",
   "id": "134a6a9e-883d-420a-a38b-7a3975c94407",
   "metadata": {},
   "source": [
    "### *Optional*\n",
    "If you are printing out dataframes, you will want to reset the default to `None` to see all the data.\n",
    "\n",
    "Use the *Create New View for Output* menu option (right click) to display output values in a separate window."
   ]
  },
  {
   "cell_type": "code",
   "execution_count": null,
   "id": "f649fabf-9800-444a-989e-c73c3208a072",
   "metadata": {},
   "outputs": [],
   "source": [
    "# Optional\n",
    "pd.set_option('display.max_rows', None)"
   ]
  },
  {
   "cell_type": "markdown",
   "id": "734cdebd",
   "metadata": {},
   "source": [
    "---\n",
    "\n",
    "## Table of Contents"
   ]
  },
  {
   "cell_type": "markdown",
   "id": "4ba63cbe",
   "metadata": {},
   "source": [
    "* [Download Data](notebooks/map_download.ipynb)\n",
    "* [Download Maps](notebooks/map_plot_revised.ipynb)\n",
    "* [Author Contributions](notebooks/contributions.ipynb)\n",
    "* [Commits](notebooks/commits.ipynb)\n",
    "* [Issues](notebooks/issues.ipynb)\n",
    "* [Pull Requests](notebooks/pull_requests.ipynb)\n",
    "* [Asset Downloads](notebooks/assets.ipynb)\n"
   ]
  },
  {
   "cell_type": "markdown",
   "id": "639c9595",
   "metadata": {},
   "source": [
    "---\n",
    "# Updating README.md\n",
    "\n",
    "If you make any changes to this file, please update the README.md file by running the following command:"
   ]
  },
  {
   "cell_type": "code",
   "execution_count": null,
   "id": "5c1d4e5b",
   "metadata": {},
   "outputs": [],
   "source": [
    "!jupyter nbconvert --to markdown README.ipynb"
   ]
  },
  {
   "cell_type": "code",
   "execution_count": null,
   "id": "34233c7f",
   "metadata": {},
   "outputs": [],
   "source": []
  }
 ],
 "metadata": {
  "kernelspec": {
   "display_name": "Python 3 (ipykernel)",
   "language": "python",
   "name": "python3"
  },
  "language_info": {
   "codemirror_mode": {
    "name": "ipython",
    "version": 3
   },
   "file_extension": ".py",
   "mimetype": "text/x-python",
   "name": "python",
   "nbconvert_exporter": "python",
   "pygments_lexer": "ipython3",
   "version": "3.9.7"
  }
 },
 "nbformat": 4,
 "nbformat_minor": 5
}
