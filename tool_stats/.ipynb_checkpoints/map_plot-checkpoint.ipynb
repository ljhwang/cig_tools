{
 "cells": [
  {
   "cell_type": "markdown",
   "metadata": {},
   "source": [
    "# Hitcount Map\n",
    "\n",
    "*Authors: Lorraine Hwang, Denise Kwong*\n"
   ]
  },
  {
   "cell_type": "markdown",
   "metadata": {},
   "source": [
    "Jupyter notebook to create heatmap hitcounts from old data.\n",
    "\n",
    "This is being run in an conda python environment.\n",
    "Remember to run from a terminal window:\n",
    "\n",
    "    conda activate hitmap\n",
    "\n",
    "This environment includes (conda install):\n",
    "\n",
    "    python\n",
    "\n",
    "    pandas\n",
    "\n",
    "    geopandas\n",
    "\n",
    "        conda install --channel conda-forge geopandas\n",
    "\n",
    "\n",
    "And exit when finished (unless you crash):\n",
    "\n",
    "    conda deactivate\n",
    "\n",
    "    ---\n",
    "\n",
    "This notebook is derived from plot.py by Eric Heien.\n",
    "\n",
    "Users can use the legacy database stored as sqlite or \n"
   ]
  },
  {
   "cell_type": "markdown",
   "metadata": {},
   "source": [
    "## Import needed libraries"
   ]
  },
  {
   "cell_type": "code",
   "execution_count": 1,
   "metadata": {},
   "outputs": [],
   "source": [
    "import math\n",
    "import os\n",
    "import os\n",
    "import sqlite3\n",
    "import datetime"
   ]
  },
  {
   "cell_type": "markdown",
   "metadata": {},
   "source": [
    "## Set parameters"
   ]
  },
  {
   "cell_type": "code",
   "execution_count": 2,
   "metadata": {},
   "outputs": [],
   "source": [
    "# START_TIME and END_TIME must be in UNIX epoch format (seconds since Jan 1 1970)\n",
    "\n",
    "# Set default time to the beginning of time Jan 1 1970\n",
    "START_TIME = datetime.datetime.fromtimestamp(0)\n",
    "\n",
    "# To change the default start time, replace MM/DD/YY HH:MM:SS with target time\n",
    "#START_TIME = datetime.datetime.strptime('MM/DD/YY HH:MM:SS', '%m/%d/%y %H:%M:%S')\n",
    "\n",
    "\n",
    "# Set end time to current time. However this is invalid as the database stops in 2021. \n",
    "# This will need to be fixed later.\n",
    "END_TIME = datetime.datetime.now()\n",
    "\n",
    "# To change the default end time, replace MM/DD/YY HH:MM:SS with target time\n",
    "#END_TIME = datetime.datetime.strptime('MM/DD/YY HH:MM:SS', '%m/%d/%y %H:%M:%S')"
   ]
  },
  {
   "cell_type": "code",
   "execution_count": 3,
   "metadata": {},
   "outputs": [],
   "source": [
    "# This looks like a fixed set of IPS that are know to be bots.\n",
    "# This may or may not be up to date relative to the age of the database.\n",
    "# IP numbers to filter\n",
    "# \n",
    "filter_ips = [\n",
    "    2155411043,\n",
    "    # shell.geodynamics.org, automatically downloads packages for\n",
    "    # documentation\n",
    "    1368427042,  # crawl-81-144-138-34.wotbox.com, crawler\n",
    "    2025873270,  # 120.192.95.118, unknown site in China\n",
    "    2026569611,  # 120.202.255.139, unknown site in China\n",
    "    2025868405,  # 120.192.76.117, unknown site in China\n",
    "    2026569613,  # 120.202.255.141, unknown site in China\n",
    "    3548981000,  # 211.137.39.8, unknown site in China\n",
    "    1862796174,  # 111.8.3.142, unknown site in China\n",
    "    3548981003,  # 211.137.39.11, unknown site in China\n",
    "    3548980999,  # 211.137.39.7, unknown site in China\n",
    "    3719653427,  # 221.181.104.51, unknown site in China\n",
    "    2025868387,  # 120.192.76.99, unknown site in China\n",
    "]"
   ]
  },
  {
   "cell_type": "code",
   "execution_count": 4,
   "metadata": {},
   "outputs": [],
   "source": [
    "# Define a bunch of functions\n",
    "# We are not going to use GMT so those functions are omitted here\n",
    "# COME BACK TO THIS LATER TO SEE IF ALL OF THESE ARE USED\n",
    "def find_ip_lat_lon(db_conn, ip_num):\n",
    "    curs = db_conn.cursor()\n",
    "    curs.execute(\n",
    "        \"SELECT location.latitude, location.longitude FROM location, block WHERE block.loc_id = location.loc_id AND ? BETWEEN block.start_ip AND block.end_ip limit 1;\", (ip_num,))\n",
    "    return curs.fetchone()\n",
    "\n",
    "\n",
    "def ip_nums_to_locations(db_name, ip_num_list):\n",
    "    db_conn = sqlite3.connect(db_name)\n",
    "    unmapped_ips = 0\n",
    "\n",
    "    cache = {}\n",
    "    result = []\n",
    "    for check_ip in ip_num_list:\n",
    "        if check_ip in cache:\n",
    "            result.append(cache[check_ip])\n",
    "        else:\n",
    "            res = find_ip_lat_lon(db_conn, check_ip)\n",
    "            if res is not None:\n",
    "                result.append(res)\n",
    "                cache[check_ip] = res\n",
    "    db_conn.close()\n",
    "\n",
    "    return result\n",
    "\n",
    "\n",
    "def lookup_hits(db_name, package_name, start_time, end_time):\n",
    "    db_conn = sqlite3.connect(db_name)\n",
    "    curs = db_conn.cursor()\n",
    "    result = []\n",
    "    if package_name == \"comprehensive\":\n",
    "        curs.execute(\n",
    "            \"SELECT hit.ip_num FROM hit WHERE hit.time >= ? AND hit.time <= ?;\", (start_time, end_time,))\n",
    "    else:\n",
    "        curs.execute(\n",
    "            \"SELECT hit.ip_num FROM hit, dist_file, package WHERE hit.time >= ? AND hit.time <= ? AND hit.file_id = dist_file.id AND dist_file.package_id = package.id AND package.package_name = ?;\",\n",
    "            (start_time, end_time, package_name,))\n",
    "    while True:\n",
    "        next_val = curs.fetchone()\n",
    "        if next_val is None:\n",
    "            break\n",
    "        ip_int_val = int(next_val[0])\n",
    "        if ip_int_val not in filter_ips:\n",
    "            result.append(ip_int_val)\n",
    "    db_conn.close()\n",
    "    return result\n",
    "\n",
    "\n",
    "def bin_locs_into_grid(locs, digits):\n",
    "    grid = {}\n",
    "    for loc in locs:\n",
    "        ll_key = (round(loc[0], digits), round(loc[1], digits))\n",
    "        if not grid.has_key(ll_key):\n",
    "            grid[ll_key] = 0\n",
    "        grid[ll_key] += 1\n",
    "\n",
    "    return grid\n"
   ]
  },
  {
   "cell_type": "markdown",
   "metadata": {},
   "source": [
    "## Set Map Parameters"
   ]
  },
  {
   "cell_type": "code",
   "execution_count": 5,
   "metadata": {},
   "outputs": [
    {
     "name": "stdout",
     "output_type": "stream",
     "text": [
      "hit_database/hit_database ip_database/ip_lookup_db output aspect 1969-12-31 16:00:00 2023-07-28 12:17:09.026718\n"
     ]
    }
   ],
   "source": [
    "# Originally the parameters were read in from the command line\n",
    "#HIT_DB_NAME = sys.argv[1]\n",
    "#LOCATION_DB_NAME = sys.argv[2]\n",
    "#OUTPUT_DIR = sys.argv[3]\n",
    "#PACKAGE_NAME = sys.argv[4]\n",
    "#\n",
    "# The locations of the databases are fixed\n",
    "#HIT_DB_NAME = \"../hit_database/hit_database\"\n",
    "#LOCATION_DB_NAME = \"../ip_database/ip_lookup_db\"\n",
    "HIT_DB_NAME = \"hit_database/hit_database\"\n",
    "LOCATION_DB_NAME = \"ip_database/ip_lookup_db\"\n",
    "OUTPUT_DIR = \"output\"\n",
    "# Alternatively specify a code name. Use a \"-\" dash and not an \"_\" underscore for specfem\n",
    "# We may wish to specify \"all\" too.\n",
    "PACKAGE_NAM = \"aspect\"\n",
    "\n",
    "# CHECK. You can also use VARIABLES in VS to inspect\n",
    "print(HIT_DB_NAME,LOCATION_DB_NAME, OUTPUT_DIR, PACKAGE_NAM, START_TIME, END_TIME)\n"
   ]
  },
  {
   "cell_type": "markdown",
   "metadata": {},
   "source": [
    "## Read in the data"
   ]
  },
  {
   "cell_type": "code",
   "execution_count": 6,
   "metadata": {},
   "outputs": [
    {
     "name": "stdout",
     "output_type": "stream",
     "text": [
      "Found 2566 hits associated with package aspect\n",
      "Checked 2566 IPs, found 2538 locations.\n"
     ]
    }
   ],
   "source": [
    "# Original code has this looping through all the packages.\n",
    "# Let's just select one package for now. \n",
    "# In the future we will want to concatenate all the data too\n",
    "\n",
    "# This was to debug to figure out why my file paths were wrong.\n",
    "# Keeping it as I may need it again to check final version\n",
    "# path=os.getcwd()\n",
    "# print(path)\n",
    "\n",
    "# Get the IP numbers associated with a given package\n",
    "ip_nums = lookup_hits(HIT_DB_NAME, PACKAGE_NAM, START_TIME, END_TIME)\n",
    "print(\"Found\", len(ip_nums), \"hits associated with package\", PACKAGE_NAM)\n",
    "if len(ip_nums) == 0:\n",
    "     print(\"Cannot generate plot for\", PACKAGE_NAM)\n",
    "   \n",
    "\n",
    "# Find the corresponding lat/lon points\n",
    "locs = ip_nums_to_locations(LOCATION_DB_NAME, ip_nums)\n",
    "print(\"Checked\", len(ip_nums), \"IPs, found\", len(locs), \"locations.\")\n",
    "# This confirms that locs has (lat,lon) but nothing else ... grrrr ...\n",
    "# print(locs)\n",
    "\n",
    "if len(locs) == 0:\n",
    "    print(\"Cannot generate plot for\", PACKAGE_NAM)\n"
   ]
  },
  {
   "cell_type": "markdown",
   "metadata": {},
   "source": [
    "## Data for Maps"
   ]
  },
  {
   "cell_type": "code",
   "execution_count": 7,
   "metadata": {},
   "outputs": [],
   "source": [
    "import pandas as pd\n",
    "import plotly.express as px\n",
    "import json"
   ]
  },
  {
   "cell_type": "code",
   "execution_count": 8,
   "metadata": {},
   "outputs": [],
   "source": [
    "# Get the data and store in dictionary, with key as IP and value as frequency of that IP\n",
    "dictionary = {i:locs.count(i) for i in locs}\n",
    "# Convert the dictionary to a dataframe\n",
    "df = pd.DataFrame(dictionary.items(), columns=['latlon', 'freq'])\n",
    "# Create a new dataframe to separate the latitude and the longitude, which are in a tuple together\n",
    "df2 = pd.DataFrame(df['latlon'].tolist(), columns=['lat', 'lon'])\n",
    "# Append the frequency to the new dataframe\n",
    "df2['freq'] = df['freq']"
   ]
  },
  {
   "cell_type": "markdown",
   "metadata": {},
   "source": [
    "Optional: run the following cell to include the current data taken from Tool Stats on https://geodynamics.org. JSON files must be located in a folder `/json` in the same directory."
   ]
  },
  {
   "cell_type": "code",
   "execution_count": 9,
   "metadata": {},
   "outputs": [],
   "source": [
    "# Downloads Map Code\n",
    "\n",
    "# monthlyCountList used for Tool Statistics (Downloads, Redirect Counts)\n",
    "# Open and load the data\n",
    "f = open('json/monthlyCountList.json')\n",
    "monthly_count_list_data = json.load(f)\n",
    "\n",
    "# Convert the original data to a dataframe\n",
    "dat = monthly_count_list_data['world_map_list']\n",
    "df = pd.DataFrame(dat)\n",
    "\n",
    "# Check whether each IP is within the specified date range\n",
    "for i in range (0, len(df)):\n",
    "    if (datetime.datetime.strptime(str(df['date_download'][i]), '%Y-%m-%d %H:%M:%S') < START_TIME):\n",
    "        df = df.drop(i)\n",
    "    elif (datetime.datetime.strptime(str(df['date_download'][i]), '%Y-%m-%d %H:%M:%S') > END_TIME):\n",
    "        df = df.drop(i)\n",
    "\n",
    "# Get the duplicate entires that contain the same ip_lat, ip_long, city, and region, and the count of each duplicate entry\n",
    "df3 = df.pivot_table(index = ['ip_lat', 'ip_long', 'city', 'region'], aggfunc ='size')\n",
    "\n",
    "# Convert the pivot_table to a dataframe for easier manipulation\n",
    "df3 = df3.reset_index()\n",
    "df3.rename(columns={'ip_lat': 'lat', 'ip_long': 'lon', 0:'freq'}, inplace=True)\n",
    "df3 = df3.drop('city', axis=1)\n",
    "df3 = df3.drop('region', axis=1)\n",
    "\n",
    "# Check whether the data from the database is empty; if not, combine both sets of data\n",
    "if len(locs) == 0:\n",
    "    df2 = df3\n",
    "else:\n",
    "    df2 = pd.concat([df2, df3], axis=0, ignore_index=True)\n",
    "\n",
    "\n",
    "if len(df2) == 0:\n",
    "    print(\"Cannot generate plot. No data found.\")"
   ]
  },
  {
   "cell_type": "markdown",
   "metadata": {},
   "source": [
    "## Plot"
   ]
  },
  {
   "cell_type": "markdown",
   "metadata": {},
   "source": [
    "### Map Options\n",
    "Legend:\n",
    "1. Range - choose the interval length (ex. 200 => 0-200, 200-400, etc.); discrete colors, uses `color_discrete_sequence`\n",
    "2. Frequency - heat gradient; continuous color, uses `color_continuous_scale`\n",
    "\n",
    "The color sequence can be chosen in one of the following ways:\n",
    "1. A list of colors (ex. `['orange', 'red', '#00D']`)\n",
    "2. Plotly's built-in color sequences. See [Color Sequences in Plotly Express](https://plotly.com/python/discrete-color/) (ex. `px.colors.qualitative.G10`)\n"
   ]
  },
  {
   "cell_type": "code",
   "execution_count": 13,
   "metadata": {},
   "outputs": [],
   "source": [
    "# Map Options\n",
    "\n",
    "# Set as either 'range' or 'freq'. The default is 'range' with an interval of 200.\n",
    "legend = 'range'\n",
    "#legend = 'freq'\n",
    "interval = 200\n",
    "\n",
    "# Set colors to preferred color palette. Set colors to a list of colors or a built-in Plotly sequence.\n",
    "#colors = px.colors.qualitative.Pastel1\n",
    "colors = px.colors.qualitative.Plotly\n",
    "\n",
    "# Calculates the points in each range by taking the interval number and creating a new column 'ranges' that places that latlon in the corresponding range\n",
    "ranges = []\n",
    "for i in range (0, len(df2)):\n",
    "    ranges.append(str((df2.loc[i]['freq'] // interval)*interval) + \" - \" + str((df2.loc[i]['freq'] // interval + 1)*interval))\n",
    "df2['range'] = ranges\n"
   ]
  },
  {
   "cell_type": "code",
   "execution_count": 14,
   "metadata": {},
   "outputs": [
    {
     "data": {
      "application/vnd.plotly.v1+json": {
       "config": {
        "plotlyServerURL": "https://plot.ly"
       },
       "data": [
        {
         "geo": "geo",
         "hovertemplate": [
          "(38.0, -97.0): 139",
          "(37.2669, -80.4325): 7",
          "(37.1791, -80.3515): 7",
          "(37.4178, -122.172): 1",
          "(34.6836, 113.5325): 7",
          "(31.0456, 121.3997): 3",
          "(36.9899, -122.0603): 4",
          "(52.0938, 5.1191): 4",
          "(33.7866, -118.2987): 2",
          "(29.8048, -95.4909): 1",
          "(54.7667, -1.5667): 3",
          "(51.0, 9.0): 25",
          "(25.0392, 121.525): 6",
          "(45.15, 9.7): 1",
          "(38.8339, -104.8214): 1",
          "(47.6801, -122.1206): 2",
          "(-27.0, 133.0): 4",
          "(34.0, 9.0): 1",
          "(52.5, 5.75): 4",
          "(42.3751, -71.1056): 1",
          "(34.2583, 108.9286): 1",
          "(51.4833, 7.2167): 1",
          "(55.0415, 82.9346): 1",
          "(38.4829, -121.6398): 36",
          "(48.5667, 12.55): 1",
          "(48.25, 11.65): 5",
          "(37.4249, -122.0074): 123",
          "(55.7522, 37.6156): 1",
          "(49.2836, -123.1041): 2",
          "(31.8639, 117.2808): 156",
          "(35.0, 105.0): 9",
          "(37.8668, -122.2536): 12",
          "(-33.8, 151.0833): 3",
          "(52.4, 13.0667): 4",
          "(51.9667, 7.6333): 4",
          "(30.5801, 114.2734): 12",
          "(50.9957, 5.8748): 1",
          "(57.7167, 11.9667): 1",
          "(36.6167, 101.7667): 1",
          "(59.9167, 10.75): 4",
          "(22.5697, 88.3697): 2",
          "(39.1472, -94.5735): 1",
          "(60.0, -95.0): 2",
          "(31.5, 34.75): 2",
          "(49.2765, -123.2177): 1",
          "(41.7922, 123.4328): 1",
          "(51.5142, -0.0931): 2",
          "(36.0986, 120.3719): 1",
          "(16.0, 106.0): 1",
          "(52.35, 4.9167): 7",
          "(45.75, 126.65): 47",
          "(43.3167, 11.35): 1",
          "(41.8267, -71.3977): 1",
          "(44.6667, -63.5667): 1",
          "(39.9289, 116.3883): 1155",
          "(40.1095, -88.2123): 1",
          "(41.5748, -70.6275): 2",
          "(33.0, 44.0): 1",
          "(31.8545, -106.533): 1",
          "(32.0, 53.0): 41",
          "(30.2832, 57.0788): 81",
          "(48.467, 2.6078): 1",
          "(48.8164, 2.4937): 1",
          "(20.0, 77.0): 24",
          "(41.8784, -87.6852): 2",
          "(37.5985, 126.9783): 1",
          "(48.15, 11.5833): 1",
          "(33.4148, -111.9093): 2",
          "(34.4329, -119.8371): 4",
          "(29.7176, -95.4188): 3",
          "(50.3667, 30.45): 1",
          "(35.685, 139.7514): 2",
          "(30.6667, 104.0667): 1",
          "(35.69, 139.69): 8",
          "(21.3267, -157.8167): 3",
          "(62.0, 10.0): 3",
          "(38.7144, -121.8529): 1",
          "(41.6412, -111.8966): 2",
          "(43.6619, -79.3952): 6",
          "(50.9512, 1.859): 1",
          "(51.4232, 7.0298): 1",
          "(48.86, 2.35): 52",
          "(51.5, -0.13): 3",
          "(51.6333, -3.9667): 1",
          "(37.5833, 139.9167): 1",
          "(35.7894, 139.6233): 1",
          "(54.3333, 10.1333): 2",
          "(41.2586, -95.9378): 1",
          "(40.7298, -73.8251): 1",
          "(12.9833, 77.5833): 3",
          "(49.75, 15.5): 1",
          "(25.6667, -100.4): 1",
          "(8.0, 38.0): 1",
          "(33.3398, -111.6385): 1",
          "(38.4166, -122.0101): 1",
          "(34.5342, -82.7167): 1",
          "(22.3333, 87.3333): 2",
          "(33.4001, -111.929): 1",
          "(40.0, -4.0): 1",
          "(41.878, -88.0163): 1",
          "(-37.8139, 144.9634): 1",
          "(45.6886, 21.9031): 7",
          "(35.2086, -97.4445): 7",
          "(40.4555, -105.4648): 1",
          "(52.5167, 13.4): 2",
          "(45.7655, 4.8755): 1",
          "(22.8, 86.1833): 1",
          "(43.6667, -79.4167): 3",
          "(28.1792, 113.1136): 5",
          "(32.0617, 118.7778): 4",
          "(47.3667, 8.55): 1",
          "(43.0377, -76.1396): 3",
          "(44.0, 21.0): 1",
          "(37.8672, -122.2568): 1",
          "(34.6864, 135.52): 17",
          "(37.57, 126.98): 3",
          "(52.6647, -8.6231): 1",
          "(40.0842, -82.9378): 8",
          "(38.01, -122.2592): 1",
          "(40.1672, -105.1019): 2",
          "(38.8357, -77.3375): 1",
          "(34.3021, -118.7208): 4",
          "(41.5074, -81.6053): 1",
          "(39.7795, -86.1328): 27",
          "(-33.8615, 151.2055): 1",
          "(40.3756, -74.6597): 1",
          "(41.3081, -72.9282): 2",
          "(40.4086, -3.6922): 1",
          "(60.0, 100.0): 1",
          "(47.4891, -122.2908): 1",
          "(45.399, -75.7304): 2",
          "(40.5525, -74.2915): 88",
          "(32.2338, -110.95): 1",
          "(29.6516, -82.3248): 2",
          "(36.6683, 116.9972): 1",
          "(44.1833, 28.65): 1",
          "(38.6446, -90.2533): 1",
          "(52.8, 13.3): 1",
          "(33.8974, -107.0261): 1",
          "(53.8, -1.5833): 1",
          "(41.1271, -73.4416): 70",
          "(28.55, 115.9333): 9",
          "(39.5645, -75.597): 72",
          "(42.2734, -83.7133): 13",
          "(38.5449, -121.7405): 1",
          "(26.5833, 106.7167): 2",
          "(33.4488, -111.8014): 1",
          "(47.0, 8.0): 2",
          "(43.0761, -89.4104): 2",
          "(37.4192, -122.0574): 3",
          "(53.0833, 8.8): 1",
          "(22.2833, 114.15): 1",
          "(43.0402, -76.2231): 1",
          "(50.4333, 4.65): 1",
          "(37.6624, -121.8747): 1",
          "(28.0, 3.0): 1",
          "(42.4667, 14.2167): 1",
          "(23.1167, 113.25): 4",
          "(43.1299, -77.6082): 1",
          "(37.1784, -3.5992): 1",
          "(48.8667, 2.3333): 1",
          "(40.61, -73.9108): 1",
          "(42.8333, 12.8333): 3",
          "(40.8006, -73.9653): 1",
          "(59.4119, 5.2775): 1",
          "(48.0, 7.85): 1",
          "(40.6761, -74.573): 1",
          "(-4.5833, 55.6667): 1",
          "(25.0389, 102.7183): 2",
          "(45.4573, -122.7992): 6",
          "(26.2034, -98.23): 1",
          "(51.9167, 4.5): 1",
          "(39.8897, 115.275): 8",
          "(41.9, 12.4833): 3",
          "(45.4667, 9.2): 1",
          "(-6.1744, 106.8294): 1",
          "(39.4895, -104.7676): 1",
          "(40.3929, -74.5412): 3",
          "(37.5402, -122.3041): 4",
          "(39.1058, -94.5933): 1",
          "(37.7269, 112.4708): 1",
          "(41.79, -73.8874): 1",
          "(32.6917, -117.115): 5",
          "(40.399, -86.8575): 2",
          "(55.6078, 12.9982): 3"
         ],
         "lat": [
          38,
          37.2669,
          37.1791,
          37.4178,
          34.6836,
          31.0456,
          36.9899,
          52.0938,
          33.7866,
          29.8048,
          54.7667,
          51,
          25.0392,
          45.15,
          38.8339,
          47.6801,
          -27,
          34,
          52.5,
          42.3751,
          34.2583,
          51.4833,
          55.0415,
          38.4829,
          48.5667,
          48.25,
          37.4249,
          55.7522,
          49.2836,
          31.8639,
          35,
          37.8668,
          -33.8,
          52.4,
          51.9667,
          30.5801,
          50.9957,
          57.7167,
          36.6167,
          59.9167,
          22.5697,
          39.1472,
          60,
          31.5,
          49.2765,
          41.7922,
          51.5142,
          36.0986,
          16,
          52.35,
          45.75,
          43.3167,
          41.8267,
          44.6667,
          40.1095,
          41.5748,
          33,
          31.8545,
          32,
          30.2832,
          48.467,
          48.8164,
          20,
          41.8784,
          37.5985,
          48.15,
          33.4148,
          34.4329,
          29.7176,
          50.3667,
          35.685,
          30.6667,
          35.69,
          21.3267,
          62,
          38.7144,
          41.6412,
          43.6619,
          50.9512,
          51.4232,
          48.86,
          51.5,
          51.6333,
          37.5833,
          35.7894,
          54.3333,
          41.2586,
          40.7298,
          12.9833,
          49.75,
          25.6667,
          8,
          33.3398,
          38.4166,
          34.5342,
          22.3333,
          33.4001,
          40,
          41.878,
          -37.8139,
          45.6886,
          35.2086,
          40.4555,
          52.5167,
          45.7655,
          22.8,
          43.6667,
          28.1792,
          32.0617,
          47.3667,
          43.0377,
          44,
          37.8672,
          34.6864,
          37.57,
          52.6647,
          40.0842,
          38.01,
          40.1672,
          38.8357,
          34.3021,
          41.5074,
          39.7795,
          -33.8615,
          40.3756,
          41.3081,
          40.4086,
          60,
          47.4891,
          45.399,
          40.5525,
          32.2338,
          29.6516,
          36.6683,
          44.1833,
          38.6446,
          52.8,
          33.8974,
          53.8,
          41.1271,
          28.55,
          39.5645,
          42.2734,
          38.5449,
          26.5833,
          33.4488,
          47,
          43.0761,
          37.4192,
          53.0833,
          22.2833,
          43.0402,
          50.4333,
          37.6624,
          28,
          42.4667,
          23.1167,
          43.1299,
          37.1784,
          48.8667,
          40.61,
          42.8333,
          40.8006,
          59.4119,
          48,
          40.6761,
          -4.5833,
          25.0389,
          45.4573,
          26.2034,
          51.9167,
          39.8897,
          41.9,
          45.4667,
          -6.1744,
          39.4895,
          40.3929,
          37.5402,
          39.1058,
          37.7269,
          41.79,
          "32.6917",
          "40.399",
          "55.6078"
         ],
         "legendgroup": "0 - 200",
         "lon": [
          -97,
          -80.4325,
          -80.3515,
          -122.172,
          113.5325,
          121.3997,
          -122.0603,
          5.1191,
          -118.2987,
          -95.4909,
          -1.5667,
          9,
          121.525,
          9.7,
          -104.8214,
          -122.1206,
          133,
          9,
          5.75,
          -71.1056,
          108.9286,
          7.2167,
          82.9346,
          -121.6398,
          12.55,
          11.65,
          -122.0074,
          37.6156,
          -123.1041,
          117.2808,
          105,
          -122.2536,
          151.0833,
          13.0667,
          7.6333,
          114.2734,
          5.8748,
          11.9667,
          101.7667,
          10.75,
          88.3697,
          -94.5735,
          -95,
          34.75,
          -123.2177,
          123.4328,
          -0.0931,
          120.3719,
          106,
          4.9167,
          126.65,
          11.35,
          -71.3977,
          -63.5667,
          -88.2123,
          -70.6275,
          44,
          -106.533,
          53,
          57.0788,
          2.6078,
          2.4937,
          77,
          -87.6852,
          126.9783,
          11.5833,
          -111.9093,
          -119.8371,
          -95.4188,
          30.45,
          139.7514,
          104.0667,
          139.69,
          -157.8167,
          10,
          -121.8529,
          -111.8966,
          -79.3952,
          1.859,
          7.0298,
          2.35,
          -0.13,
          -3.9667,
          139.9167,
          139.6233,
          10.1333,
          -95.9378,
          -73.8251,
          77.5833,
          15.5,
          -100.4,
          38,
          -111.6385,
          -122.0101,
          -82.7167,
          87.3333,
          -111.929,
          -4,
          -88.0163,
          144.9634,
          21.9031,
          -97.4445,
          -105.4648,
          13.4,
          4.8755,
          86.1833,
          -79.4167,
          113.1136,
          118.7778,
          8.55,
          -76.1396,
          21,
          -122.2568,
          135.52,
          126.98,
          -8.6231,
          -82.9378,
          -122.2592,
          -105.1019,
          -77.3375,
          -118.7208,
          -81.6053,
          -86.1328,
          151.2055,
          -74.6597,
          -72.9282,
          -3.6922,
          100,
          -122.2908,
          -75.7304,
          -74.2915,
          -110.95,
          -82.3248,
          116.9972,
          28.65,
          -90.2533,
          13.3,
          -107.0261,
          -1.5833,
          -73.4416,
          115.9333,
          -75.597,
          -83.7133,
          -121.7405,
          106.7167,
          -111.8014,
          8,
          -89.4104,
          -122.0574,
          8.8,
          114.15,
          -76.2231,
          4.65,
          -121.8747,
          3,
          14.2167,
          113.25,
          -77.6082,
          -3.5992,
          2.3333,
          -73.9108,
          12.8333,
          -73.9653,
          5.2775,
          7.85,
          -74.573,
          55.6667,
          102.7183,
          -122.7992,
          -98.23,
          4.5,
          115.275,
          12.4833,
          9.2,
          106.8294,
          -104.7676,
          -74.5412,
          -122.3041,
          -94.5933,
          112.4708,
          -73.8874,
          "-117.115",
          "-86.8575",
          "12.9982"
         ],
         "marker": {
          "color": "#636EFA",
          "size": [
           139,
           7,
           7,
           1,
           7,
           3,
           4,
           4,
           2,
           1,
           3,
           25,
           6,
           1,
           1,
           2,
           4,
           1,
           4,
           1,
           1,
           1,
           1,
           36,
           1,
           5,
           123,
           1,
           2,
           156,
           9,
           12,
           3,
           4,
           4,
           12,
           1,
           1,
           1,
           4,
           2,
           1,
           2,
           2,
           1,
           1,
           2,
           1,
           1,
           7,
           47,
           1,
           1,
           1,
           1,
           2,
           1,
           1,
           41,
           81,
           1,
           1,
           24,
           2,
           1,
           1,
           2,
           4,
           3,
           1,
           2,
           1,
           8,
           3,
           3,
           1,
           2,
           6,
           1,
           1,
           52,
           3,
           1,
           1,
           1,
           2,
           1,
           1,
           3,
           1,
           1,
           1,
           1,
           1,
           1,
           2,
           1,
           1,
           1,
           1,
           7,
           7,
           1,
           2,
           1,
           1,
           3,
           5,
           4,
           1,
           3,
           1,
           1,
           17,
           3,
           1,
           8,
           1,
           2,
           1,
           4,
           1,
           27,
           1,
           1,
           2,
           1,
           1,
           1,
           2,
           88,
           1,
           2,
           1,
           1,
           1,
           1,
           1,
           1,
           70,
           9,
           72,
           13,
           1,
           2,
           1,
           2,
           2,
           3,
           1,
           1,
           1,
           1,
           1,
           1,
           1,
           4,
           1,
           1,
           1,
           1,
           3,
           1,
           1,
           1,
           1,
           1,
           2,
           6,
           1,
           1,
           8,
           3,
           1,
           1,
           1,
           3,
           4,
           1,
           1,
           1,
           5,
           2,
           3
          ],
          "sizemode": "area",
          "sizeref": 2.8875,
          "symbol": "circle"
         },
         "mode": "markers",
         "name": "0 - 200",
         "showlegend": true,
         "type": "scattergeo"
        },
        {
         "geo": "geo",
         "hovertemplate": [
          "(38.0, -97.0): 139",
          "(37.2669, -80.4325): 7",
          "(37.1791, -80.3515): 7",
          "(37.4178, -122.172): 1",
          "(34.6836, 113.5325): 7",
          "(31.0456, 121.3997): 3",
          "(36.9899, -122.0603): 4",
          "(52.0938, 5.1191): 4",
          "(33.7866, -118.2987): 2",
          "(29.8048, -95.4909): 1",
          "(54.7667, -1.5667): 3",
          "(51.0, 9.0): 25",
          "(25.0392, 121.525): 6",
          "(45.15, 9.7): 1",
          "(38.8339, -104.8214): 1",
          "(47.6801, -122.1206): 2",
          "(-27.0, 133.0): 4",
          "(34.0, 9.0): 1",
          "(52.5, 5.75): 4",
          "(42.3751, -71.1056): 1",
          "(34.2583, 108.9286): 1",
          "(51.4833, 7.2167): 1",
          "(55.0415, 82.9346): 1",
          "(38.4829, -121.6398): 36",
          "(48.5667, 12.55): 1",
          "(48.25, 11.65): 5",
          "(37.4249, -122.0074): 123",
          "(55.7522, 37.6156): 1",
          "(49.2836, -123.1041): 2",
          "(31.8639, 117.2808): 156",
          "(35.0, 105.0): 9",
          "(37.8668, -122.2536): 12",
          "(-33.8, 151.0833): 3",
          "(52.4, 13.0667): 4",
          "(51.9667, 7.6333): 4",
          "(30.5801, 114.2734): 12",
          "(50.9957, 5.8748): 1",
          "(57.7167, 11.9667): 1",
          "(36.6167, 101.7667): 1",
          "(59.9167, 10.75): 4",
          "(22.5697, 88.3697): 2",
          "(39.1472, -94.5735): 1",
          "(60.0, -95.0): 2",
          "(31.5, 34.75): 2",
          "(49.2765, -123.2177): 1",
          "(41.7922, 123.4328): 1",
          "(51.5142, -0.0931): 2",
          "(36.0986, 120.3719): 1",
          "(16.0, 106.0): 1",
          "(52.35, 4.9167): 7",
          "(45.75, 126.65): 47",
          "(43.3167, 11.35): 1",
          "(41.8267, -71.3977): 1",
          "(44.6667, -63.5667): 1",
          "(39.9289, 116.3883): 1155",
          "(40.1095, -88.2123): 1",
          "(41.5748, -70.6275): 2",
          "(33.0, 44.0): 1",
          "(31.8545, -106.533): 1",
          "(32.0, 53.0): 41",
          "(30.2832, 57.0788): 81",
          "(48.467, 2.6078): 1",
          "(48.8164, 2.4937): 1",
          "(20.0, 77.0): 24",
          "(41.8784, -87.6852): 2",
          "(37.5985, 126.9783): 1",
          "(48.15, 11.5833): 1",
          "(33.4148, -111.9093): 2",
          "(34.4329, -119.8371): 4",
          "(29.7176, -95.4188): 3",
          "(50.3667, 30.45): 1",
          "(35.685, 139.7514): 2",
          "(30.6667, 104.0667): 1",
          "(35.69, 139.69): 8",
          "(21.3267, -157.8167): 3",
          "(62.0, 10.0): 3",
          "(38.7144, -121.8529): 1",
          "(41.6412, -111.8966): 2",
          "(43.6619, -79.3952): 6",
          "(50.9512, 1.859): 1",
          "(51.4232, 7.0298): 1",
          "(48.86, 2.35): 52",
          "(51.5, -0.13): 3",
          "(51.6333, -3.9667): 1",
          "(37.5833, 139.9167): 1",
          "(35.7894, 139.6233): 1",
          "(54.3333, 10.1333): 2",
          "(41.2586, -95.9378): 1",
          "(40.7298, -73.8251): 1",
          "(12.9833, 77.5833): 3",
          "(49.75, 15.5): 1",
          "(25.6667, -100.4): 1",
          "(8.0, 38.0): 1",
          "(33.3398, -111.6385): 1",
          "(38.4166, -122.0101): 1",
          "(34.5342, -82.7167): 1",
          "(22.3333, 87.3333): 2",
          "(33.4001, -111.929): 1",
          "(40.0, -4.0): 1",
          "(41.878, -88.0163): 1",
          "(-37.8139, 144.9634): 1",
          "(45.6886, 21.9031): 7",
          "(35.2086, -97.4445): 7",
          "(40.4555, -105.4648): 1",
          "(52.5167, 13.4): 2",
          "(45.7655, 4.8755): 1",
          "(22.8, 86.1833): 1",
          "(43.6667, -79.4167): 3",
          "(28.1792, 113.1136): 5",
          "(32.0617, 118.7778): 4",
          "(47.3667, 8.55): 1",
          "(43.0377, -76.1396): 3",
          "(44.0, 21.0): 1",
          "(37.8672, -122.2568): 1",
          "(34.6864, 135.52): 17",
          "(37.57, 126.98): 3",
          "(52.6647, -8.6231): 1",
          "(40.0842, -82.9378): 8",
          "(38.01, -122.2592): 1",
          "(40.1672, -105.1019): 2",
          "(38.8357, -77.3375): 1",
          "(34.3021, -118.7208): 4",
          "(41.5074, -81.6053): 1",
          "(39.7795, -86.1328): 27",
          "(-33.8615, 151.2055): 1",
          "(40.3756, -74.6597): 1",
          "(41.3081, -72.9282): 2",
          "(40.4086, -3.6922): 1",
          "(60.0, 100.0): 1",
          "(47.4891, -122.2908): 1",
          "(45.399, -75.7304): 2",
          "(40.5525, -74.2915): 88",
          "(32.2338, -110.95): 1",
          "(29.6516, -82.3248): 2",
          "(36.6683, 116.9972): 1",
          "(44.1833, 28.65): 1",
          "(38.6446, -90.2533): 1",
          "(52.8, 13.3): 1",
          "(33.8974, -107.0261): 1",
          "(53.8, -1.5833): 1",
          "(41.1271, -73.4416): 70",
          "(28.55, 115.9333): 9",
          "(39.5645, -75.597): 72",
          "(42.2734, -83.7133): 13",
          "(38.5449, -121.7405): 1",
          "(26.5833, 106.7167): 2",
          "(33.4488, -111.8014): 1",
          "(47.0, 8.0): 2",
          "(43.0761, -89.4104): 2",
          "(37.4192, -122.0574): 3",
          "(53.0833, 8.8): 1",
          "(22.2833, 114.15): 1",
          "(43.0402, -76.2231): 1",
          "(50.4333, 4.65): 1",
          "(37.6624, -121.8747): 1",
          "(28.0, 3.0): 1",
          "(42.4667, 14.2167): 1",
          "(23.1167, 113.25): 4",
          "(43.1299, -77.6082): 1",
          "(37.1784, -3.5992): 1",
          "(48.8667, 2.3333): 1",
          "(40.61, -73.9108): 1",
          "(42.8333, 12.8333): 3",
          "(40.8006, -73.9653): 1",
          "(59.4119, 5.2775): 1",
          "(48.0, 7.85): 1",
          "(40.6761, -74.573): 1",
          "(-4.5833, 55.6667): 1",
          "(25.0389, 102.7183): 2",
          "(45.4573, -122.7992): 6",
          "(26.2034, -98.23): 1",
          "(51.9167, 4.5): 1",
          "(39.8897, 115.275): 8",
          "(41.9, 12.4833): 3",
          "(45.4667, 9.2): 1",
          "(-6.1744, 106.8294): 1",
          "(39.4895, -104.7676): 1",
          "(40.3929, -74.5412): 3",
          "(37.5402, -122.3041): 4",
          "(39.1058, -94.5933): 1",
          "(37.7269, 112.4708): 1",
          "(41.79, -73.8874): 1",
          "(32.6917, -117.115): 5",
          "(40.399, -86.8575): 2",
          "(55.6078, 12.9982): 3"
         ],
         "lat": [
          39.9289
         ],
         "legendgroup": "1000 - 1200",
         "lon": [
          116.3883
         ],
         "marker": {
          "color": "#EF553B",
          "size": [
           1155
          ],
          "sizemode": "area",
          "sizeref": 2.8875,
          "symbol": "circle"
         },
         "mode": "markers",
         "name": "1000 - 1200",
         "showlegend": true,
         "type": "scattergeo"
        }
       ],
       "layout": {
        "geo": {
         "center": {},
         "domain": {
          "x": [
           0,
           1
          ],
          "y": [
           0,
           1
          ]
         }
        },
        "legend": {
         "itemsizing": "constant",
         "title": {
          "text": "range"
         },
         "tracegroupgap": 0
        },
        "template": {
         "data": {
          "bar": [
           {
            "error_x": {
             "color": "#2a3f5f"
            },
            "error_y": {
             "color": "#2a3f5f"
            },
            "marker": {
             "line": {
              "color": "#E5ECF6",
              "width": 0.5
             },
             "pattern": {
              "fillmode": "overlay",
              "size": 10,
              "solidity": 0.2
             }
            },
            "type": "bar"
           }
          ],
          "barpolar": [
           {
            "marker": {
             "line": {
              "color": "#E5ECF6",
              "width": 0.5
             },
             "pattern": {
              "fillmode": "overlay",
              "size": 10,
              "solidity": 0.2
             }
            },
            "type": "barpolar"
           }
          ],
          "carpet": [
           {
            "aaxis": {
             "endlinecolor": "#2a3f5f",
             "gridcolor": "white",
             "linecolor": "white",
             "minorgridcolor": "white",
             "startlinecolor": "#2a3f5f"
            },
            "baxis": {
             "endlinecolor": "#2a3f5f",
             "gridcolor": "white",
             "linecolor": "white",
             "minorgridcolor": "white",
             "startlinecolor": "#2a3f5f"
            },
            "type": "carpet"
           }
          ],
          "choropleth": [
           {
            "colorbar": {
             "outlinewidth": 0,
             "ticks": ""
            },
            "type": "choropleth"
           }
          ],
          "contour": [
           {
            "colorbar": {
             "outlinewidth": 0,
             "ticks": ""
            },
            "colorscale": [
             [
              0,
              "#0d0887"
             ],
             [
              0.1111111111111111,
              "#46039f"
             ],
             [
              0.2222222222222222,
              "#7201a8"
             ],
             [
              0.3333333333333333,
              "#9c179e"
             ],
             [
              0.4444444444444444,
              "#bd3786"
             ],
             [
              0.5555555555555556,
              "#d8576b"
             ],
             [
              0.6666666666666666,
              "#ed7953"
             ],
             [
              0.7777777777777778,
              "#fb9f3a"
             ],
             [
              0.8888888888888888,
              "#fdca26"
             ],
             [
              1,
              "#f0f921"
             ]
            ],
            "type": "contour"
           }
          ],
          "contourcarpet": [
           {
            "colorbar": {
             "outlinewidth": 0,
             "ticks": ""
            },
            "type": "contourcarpet"
           }
          ],
          "heatmap": [
           {
            "colorbar": {
             "outlinewidth": 0,
             "ticks": ""
            },
            "colorscale": [
             [
              0,
              "#0d0887"
             ],
             [
              0.1111111111111111,
              "#46039f"
             ],
             [
              0.2222222222222222,
              "#7201a8"
             ],
             [
              0.3333333333333333,
              "#9c179e"
             ],
             [
              0.4444444444444444,
              "#bd3786"
             ],
             [
              0.5555555555555556,
              "#d8576b"
             ],
             [
              0.6666666666666666,
              "#ed7953"
             ],
             [
              0.7777777777777778,
              "#fb9f3a"
             ],
             [
              0.8888888888888888,
              "#fdca26"
             ],
             [
              1,
              "#f0f921"
             ]
            ],
            "type": "heatmap"
           }
          ],
          "heatmapgl": [
           {
            "colorbar": {
             "outlinewidth": 0,
             "ticks": ""
            },
            "colorscale": [
             [
              0,
              "#0d0887"
             ],
             [
              0.1111111111111111,
              "#46039f"
             ],
             [
              0.2222222222222222,
              "#7201a8"
             ],
             [
              0.3333333333333333,
              "#9c179e"
             ],
             [
              0.4444444444444444,
              "#bd3786"
             ],
             [
              0.5555555555555556,
              "#d8576b"
             ],
             [
              0.6666666666666666,
              "#ed7953"
             ],
             [
              0.7777777777777778,
              "#fb9f3a"
             ],
             [
              0.8888888888888888,
              "#fdca26"
             ],
             [
              1,
              "#f0f921"
             ]
            ],
            "type": "heatmapgl"
           }
          ],
          "histogram": [
           {
            "marker": {
             "pattern": {
              "fillmode": "overlay",
              "size": 10,
              "solidity": 0.2
             }
            },
            "type": "histogram"
           }
          ],
          "histogram2d": [
           {
            "colorbar": {
             "outlinewidth": 0,
             "ticks": ""
            },
            "colorscale": [
             [
              0,
              "#0d0887"
             ],
             [
              0.1111111111111111,
              "#46039f"
             ],
             [
              0.2222222222222222,
              "#7201a8"
             ],
             [
              0.3333333333333333,
              "#9c179e"
             ],
             [
              0.4444444444444444,
              "#bd3786"
             ],
             [
              0.5555555555555556,
              "#d8576b"
             ],
             [
              0.6666666666666666,
              "#ed7953"
             ],
             [
              0.7777777777777778,
              "#fb9f3a"
             ],
             [
              0.8888888888888888,
              "#fdca26"
             ],
             [
              1,
              "#f0f921"
             ]
            ],
            "type": "histogram2d"
           }
          ],
          "histogram2dcontour": [
           {
            "colorbar": {
             "outlinewidth": 0,
             "ticks": ""
            },
            "colorscale": [
             [
              0,
              "#0d0887"
             ],
             [
              0.1111111111111111,
              "#46039f"
             ],
             [
              0.2222222222222222,
              "#7201a8"
             ],
             [
              0.3333333333333333,
              "#9c179e"
             ],
             [
              0.4444444444444444,
              "#bd3786"
             ],
             [
              0.5555555555555556,
              "#d8576b"
             ],
             [
              0.6666666666666666,
              "#ed7953"
             ],
             [
              0.7777777777777778,
              "#fb9f3a"
             ],
             [
              0.8888888888888888,
              "#fdca26"
             ],
             [
              1,
              "#f0f921"
             ]
            ],
            "type": "histogram2dcontour"
           }
          ],
          "mesh3d": [
           {
            "colorbar": {
             "outlinewidth": 0,
             "ticks": ""
            },
            "type": "mesh3d"
           }
          ],
          "parcoords": [
           {
            "line": {
             "colorbar": {
              "outlinewidth": 0,
              "ticks": ""
             }
            },
            "type": "parcoords"
           }
          ],
          "pie": [
           {
            "automargin": true,
            "type": "pie"
           }
          ],
          "scatter": [
           {
            "fillpattern": {
             "fillmode": "overlay",
             "size": 10,
             "solidity": 0.2
            },
            "type": "scatter"
           }
          ],
          "scatter3d": [
           {
            "line": {
             "colorbar": {
              "outlinewidth": 0,
              "ticks": ""
             }
            },
            "marker": {
             "colorbar": {
              "outlinewidth": 0,
              "ticks": ""
             }
            },
            "type": "scatter3d"
           }
          ],
          "scattercarpet": [
           {
            "marker": {
             "colorbar": {
              "outlinewidth": 0,
              "ticks": ""
             }
            },
            "type": "scattercarpet"
           }
          ],
          "scattergeo": [
           {
            "marker": {
             "colorbar": {
              "outlinewidth": 0,
              "ticks": ""
             }
            },
            "type": "scattergeo"
           }
          ],
          "scattergl": [
           {
            "marker": {
             "colorbar": {
              "outlinewidth": 0,
              "ticks": ""
             }
            },
            "type": "scattergl"
           }
          ],
          "scattermapbox": [
           {
            "marker": {
             "colorbar": {
              "outlinewidth": 0,
              "ticks": ""
             }
            },
            "type": "scattermapbox"
           }
          ],
          "scatterpolar": [
           {
            "marker": {
             "colorbar": {
              "outlinewidth": 0,
              "ticks": ""
             }
            },
            "type": "scatterpolar"
           }
          ],
          "scatterpolargl": [
           {
            "marker": {
             "colorbar": {
              "outlinewidth": 0,
              "ticks": ""
             }
            },
            "type": "scatterpolargl"
           }
          ],
          "scatterternary": [
           {
            "marker": {
             "colorbar": {
              "outlinewidth": 0,
              "ticks": ""
             }
            },
            "type": "scatterternary"
           }
          ],
          "surface": [
           {
            "colorbar": {
             "outlinewidth": 0,
             "ticks": ""
            },
            "colorscale": [
             [
              0,
              "#0d0887"
             ],
             [
              0.1111111111111111,
              "#46039f"
             ],
             [
              0.2222222222222222,
              "#7201a8"
             ],
             [
              0.3333333333333333,
              "#9c179e"
             ],
             [
              0.4444444444444444,
              "#bd3786"
             ],
             [
              0.5555555555555556,
              "#d8576b"
             ],
             [
              0.6666666666666666,
              "#ed7953"
             ],
             [
              0.7777777777777778,
              "#fb9f3a"
             ],
             [
              0.8888888888888888,
              "#fdca26"
             ],
             [
              1,
              "#f0f921"
             ]
            ],
            "type": "surface"
           }
          ],
          "table": [
           {
            "cells": {
             "fill": {
              "color": "#EBF0F8"
             },
             "line": {
              "color": "white"
             }
            },
            "header": {
             "fill": {
              "color": "#C8D4E3"
             },
             "line": {
              "color": "white"
             }
            },
            "type": "table"
           }
          ]
         },
         "layout": {
          "annotationdefaults": {
           "arrowcolor": "#2a3f5f",
           "arrowhead": 0,
           "arrowwidth": 1
          },
          "autotypenumbers": "strict",
          "coloraxis": {
           "colorbar": {
            "outlinewidth": 0,
            "ticks": ""
           }
          },
          "colorscale": {
           "diverging": [
            [
             0,
             "#8e0152"
            ],
            [
             0.1,
             "#c51b7d"
            ],
            [
             0.2,
             "#de77ae"
            ],
            [
             0.3,
             "#f1b6da"
            ],
            [
             0.4,
             "#fde0ef"
            ],
            [
             0.5,
             "#f7f7f7"
            ],
            [
             0.6,
             "#e6f5d0"
            ],
            [
             0.7,
             "#b8e186"
            ],
            [
             0.8,
             "#7fbc41"
            ],
            [
             0.9,
             "#4d9221"
            ],
            [
             1,
             "#276419"
            ]
           ],
           "sequential": [
            [
             0,
             "#0d0887"
            ],
            [
             0.1111111111111111,
             "#46039f"
            ],
            [
             0.2222222222222222,
             "#7201a8"
            ],
            [
             0.3333333333333333,
             "#9c179e"
            ],
            [
             0.4444444444444444,
             "#bd3786"
            ],
            [
             0.5555555555555556,
             "#d8576b"
            ],
            [
             0.6666666666666666,
             "#ed7953"
            ],
            [
             0.7777777777777778,
             "#fb9f3a"
            ],
            [
             0.8888888888888888,
             "#fdca26"
            ],
            [
             1,
             "#f0f921"
            ]
           ],
           "sequentialminus": [
            [
             0,
             "#0d0887"
            ],
            [
             0.1111111111111111,
             "#46039f"
            ],
            [
             0.2222222222222222,
             "#7201a8"
            ],
            [
             0.3333333333333333,
             "#9c179e"
            ],
            [
             0.4444444444444444,
             "#bd3786"
            ],
            [
             0.5555555555555556,
             "#d8576b"
            ],
            [
             0.6666666666666666,
             "#ed7953"
            ],
            [
             0.7777777777777778,
             "#fb9f3a"
            ],
            [
             0.8888888888888888,
             "#fdca26"
            ],
            [
             1,
             "#f0f921"
            ]
           ]
          },
          "colorway": [
           "#636efa",
           "#EF553B",
           "#00cc96",
           "#ab63fa",
           "#FFA15A",
           "#19d3f3",
           "#FF6692",
           "#B6E880",
           "#FF97FF",
           "#FECB52"
          ],
          "font": {
           "color": "#2a3f5f"
          },
          "geo": {
           "bgcolor": "white",
           "lakecolor": "white",
           "landcolor": "#E5ECF6",
           "showlakes": true,
           "showland": true,
           "subunitcolor": "white"
          },
          "hoverlabel": {
           "align": "left"
          },
          "hovermode": "closest",
          "mapbox": {
           "style": "light"
          },
          "paper_bgcolor": "white",
          "plot_bgcolor": "#E5ECF6",
          "polar": {
           "angularaxis": {
            "gridcolor": "white",
            "linecolor": "white",
            "ticks": ""
           },
           "bgcolor": "#E5ECF6",
           "radialaxis": {
            "gridcolor": "white",
            "linecolor": "white",
            "ticks": ""
           }
          },
          "scene": {
           "xaxis": {
            "backgroundcolor": "#E5ECF6",
            "gridcolor": "white",
            "gridwidth": 2,
            "linecolor": "white",
            "showbackground": true,
            "ticks": "",
            "zerolinecolor": "white"
           },
           "yaxis": {
            "backgroundcolor": "#E5ECF6",
            "gridcolor": "white",
            "gridwidth": 2,
            "linecolor": "white",
            "showbackground": true,
            "ticks": "",
            "zerolinecolor": "white"
           },
           "zaxis": {
            "backgroundcolor": "#E5ECF6",
            "gridcolor": "white",
            "gridwidth": 2,
            "linecolor": "white",
            "showbackground": true,
            "ticks": "",
            "zerolinecolor": "white"
           }
          },
          "shapedefaults": {
           "line": {
            "color": "#2a3f5f"
           }
          },
          "ternary": {
           "aaxis": {
            "gridcolor": "white",
            "linecolor": "white",
            "ticks": ""
           },
           "baxis": {
            "gridcolor": "white",
            "linecolor": "white",
            "ticks": ""
           },
           "bgcolor": "#E5ECF6",
           "caxis": {
            "gridcolor": "white",
            "linecolor": "white",
            "ticks": ""
           }
          },
          "title": {
           "x": 0.05
          },
          "xaxis": {
           "automargin": true,
           "gridcolor": "white",
           "linecolor": "white",
           "ticks": "",
           "title": {
            "standoff": 15
           },
           "zerolinecolor": "white",
           "zerolinewidth": 2
          },
          "yaxis": {
           "automargin": true,
           "gridcolor": "white",
           "linecolor": "white",
           "ticks": "",
           "title": {
            "standoff": 15
           },
           "zerolinecolor": "white",
           "zerolinewidth": 2
          }
         }
        },
        "title": {
         "text": "Hitmap (Geo)"
        }
       }
      },
      "text/html": [
       "<div>                            <div id=\"d68a99a4-d4f2-487e-bb32-59d5628bb8a4\" class=\"plotly-graph-div\" style=\"height:525px; width:100%;\"></div>            <script type=\"text/javascript\">                require([\"plotly\"], function(Plotly) {                    window.PLOTLYENV=window.PLOTLYENV || {};                                    if (document.getElementById(\"d68a99a4-d4f2-487e-bb32-59d5628bb8a4\")) {                    Plotly.newPlot(                        \"d68a99a4-d4f2-487e-bb32-59d5628bb8a4\",                        [{\"geo\":\"geo\",\"hovertemplate\":[\"(38.0, -97.0): 139\",\"(37.2669, -80.4325): 7\",\"(37.1791, -80.3515): 7\",\"(37.4178, -122.172): 1\",\"(34.6836, 113.5325): 7\",\"(31.0456, 121.3997): 3\",\"(36.9899, -122.0603): 4\",\"(52.0938, 5.1191): 4\",\"(33.7866, -118.2987): 2\",\"(29.8048, -95.4909): 1\",\"(54.7667, -1.5667): 3\",\"(51.0, 9.0): 25\",\"(25.0392, 121.525): 6\",\"(45.15, 9.7): 1\",\"(38.8339, -104.8214): 1\",\"(47.6801, -122.1206): 2\",\"(-27.0, 133.0): 4\",\"(34.0, 9.0): 1\",\"(52.5, 5.75): 4\",\"(42.3751, -71.1056): 1\",\"(34.2583, 108.9286): 1\",\"(51.4833, 7.2167): 1\",\"(55.0415, 82.9346): 1\",\"(38.4829, -121.6398): 36\",\"(48.5667, 12.55): 1\",\"(48.25, 11.65): 5\",\"(37.4249, -122.0074): 123\",\"(55.7522, 37.6156): 1\",\"(49.2836, -123.1041): 2\",\"(31.8639, 117.2808): 156\",\"(35.0, 105.0): 9\",\"(37.8668, -122.2536): 12\",\"(-33.8, 151.0833): 3\",\"(52.4, 13.0667): 4\",\"(51.9667, 7.6333): 4\",\"(30.5801, 114.2734): 12\",\"(50.9957, 5.8748): 1\",\"(57.7167, 11.9667): 1\",\"(36.6167, 101.7667): 1\",\"(59.9167, 10.75): 4\",\"(22.5697, 88.3697): 2\",\"(39.1472, -94.5735): 1\",\"(60.0, -95.0): 2\",\"(31.5, 34.75): 2\",\"(49.2765, -123.2177): 1\",\"(41.7922, 123.4328): 1\",\"(51.5142, -0.0931): 2\",\"(36.0986, 120.3719): 1\",\"(16.0, 106.0): 1\",\"(52.35, 4.9167): 7\",\"(45.75, 126.65): 47\",\"(43.3167, 11.35): 1\",\"(41.8267, -71.3977): 1\",\"(44.6667, -63.5667): 1\",\"(39.9289, 116.3883): 1155\",\"(40.1095, -88.2123): 1\",\"(41.5748, -70.6275): 2\",\"(33.0, 44.0): 1\",\"(31.8545, -106.533): 1\",\"(32.0, 53.0): 41\",\"(30.2832, 57.0788): 81\",\"(48.467, 2.6078): 1\",\"(48.8164, 2.4937): 1\",\"(20.0, 77.0): 24\",\"(41.8784, -87.6852): 2\",\"(37.5985, 126.9783): 1\",\"(48.15, 11.5833): 1\",\"(33.4148, -111.9093): 2\",\"(34.4329, -119.8371): 4\",\"(29.7176, -95.4188): 3\",\"(50.3667, 30.45): 1\",\"(35.685, 139.7514): 2\",\"(30.6667, 104.0667): 1\",\"(35.69, 139.69): 8\",\"(21.3267, -157.8167): 3\",\"(62.0, 10.0): 3\",\"(38.7144, -121.8529): 1\",\"(41.6412, -111.8966): 2\",\"(43.6619, -79.3952): 6\",\"(50.9512, 1.859): 1\",\"(51.4232, 7.0298): 1\",\"(48.86, 2.35): 52\",\"(51.5, -0.13): 3\",\"(51.6333, -3.9667): 1\",\"(37.5833, 139.9167): 1\",\"(35.7894, 139.6233): 1\",\"(54.3333, 10.1333): 2\",\"(41.2586, -95.9378): 1\",\"(40.7298, -73.8251): 1\",\"(12.9833, 77.5833): 3\",\"(49.75, 15.5): 1\",\"(25.6667, -100.4): 1\",\"(8.0, 38.0): 1\",\"(33.3398, -111.6385): 1\",\"(38.4166, -122.0101): 1\",\"(34.5342, -82.7167): 1\",\"(22.3333, 87.3333): 2\",\"(33.4001, -111.929): 1\",\"(40.0, -4.0): 1\",\"(41.878, -88.0163): 1\",\"(-37.8139, 144.9634): 1\",\"(45.6886, 21.9031): 7\",\"(35.2086, -97.4445): 7\",\"(40.4555, -105.4648): 1\",\"(52.5167, 13.4): 2\",\"(45.7655, 4.8755): 1\",\"(22.8, 86.1833): 1\",\"(43.6667, -79.4167): 3\",\"(28.1792, 113.1136): 5\",\"(32.0617, 118.7778): 4\",\"(47.3667, 8.55): 1\",\"(43.0377, -76.1396): 3\",\"(44.0, 21.0): 1\",\"(37.8672, -122.2568): 1\",\"(34.6864, 135.52): 17\",\"(37.57, 126.98): 3\",\"(52.6647, -8.6231): 1\",\"(40.0842, -82.9378): 8\",\"(38.01, -122.2592): 1\",\"(40.1672, -105.1019): 2\",\"(38.8357, -77.3375): 1\",\"(34.3021, -118.7208): 4\",\"(41.5074, -81.6053): 1\",\"(39.7795, -86.1328): 27\",\"(-33.8615, 151.2055): 1\",\"(40.3756, -74.6597): 1\",\"(41.3081, -72.9282): 2\",\"(40.4086, -3.6922): 1\",\"(60.0, 100.0): 1\",\"(47.4891, -122.2908): 1\",\"(45.399, -75.7304): 2\",\"(40.5525, -74.2915): 88\",\"(32.2338, -110.95): 1\",\"(29.6516, -82.3248): 2\",\"(36.6683, 116.9972): 1\",\"(44.1833, 28.65): 1\",\"(38.6446, -90.2533): 1\",\"(52.8, 13.3): 1\",\"(33.8974, -107.0261): 1\",\"(53.8, -1.5833): 1\",\"(41.1271, -73.4416): 70\",\"(28.55, 115.9333): 9\",\"(39.5645, -75.597): 72\",\"(42.2734, -83.7133): 13\",\"(38.5449, -121.7405): 1\",\"(26.5833, 106.7167): 2\",\"(33.4488, -111.8014): 1\",\"(47.0, 8.0): 2\",\"(43.0761, -89.4104): 2\",\"(37.4192, -122.0574): 3\",\"(53.0833, 8.8): 1\",\"(22.2833, 114.15): 1\",\"(43.0402, -76.2231): 1\",\"(50.4333, 4.65): 1\",\"(37.6624, -121.8747): 1\",\"(28.0, 3.0): 1\",\"(42.4667, 14.2167): 1\",\"(23.1167, 113.25): 4\",\"(43.1299, -77.6082): 1\",\"(37.1784, -3.5992): 1\",\"(48.8667, 2.3333): 1\",\"(40.61, -73.9108): 1\",\"(42.8333, 12.8333): 3\",\"(40.8006, -73.9653): 1\",\"(59.4119, 5.2775): 1\",\"(48.0, 7.85): 1\",\"(40.6761, -74.573): 1\",\"(-4.5833, 55.6667): 1\",\"(25.0389, 102.7183): 2\",\"(45.4573, -122.7992): 6\",\"(26.2034, -98.23): 1\",\"(51.9167, 4.5): 1\",\"(39.8897, 115.275): 8\",\"(41.9, 12.4833): 3\",\"(45.4667, 9.2): 1\",\"(-6.1744, 106.8294): 1\",\"(39.4895, -104.7676): 1\",\"(40.3929, -74.5412): 3\",\"(37.5402, -122.3041): 4\",\"(39.1058, -94.5933): 1\",\"(37.7269, 112.4708): 1\",\"(41.79, -73.8874): 1\",\"(32.6917, -117.115): 5\",\"(40.399, -86.8575): 2\",\"(55.6078, 12.9982): 3\"],\"lat\":[38.0,37.2669,37.1791,37.4178,34.6836,31.0456,36.9899,52.0938,33.7866,29.8048,54.7667,51.0,25.0392,45.15,38.8339,47.6801,-27.0,34.0,52.5,42.3751,34.2583,51.4833,55.0415,38.4829,48.5667,48.25,37.4249,55.7522,49.2836,31.8639,35.0,37.8668,-33.8,52.4,51.9667,30.5801,50.9957,57.7167,36.6167,59.9167,22.5697,39.1472,60.0,31.5,49.2765,41.7922,51.5142,36.0986,16.0,52.35,45.75,43.3167,41.8267,44.6667,40.1095,41.5748,33.0,31.8545,32.0,30.2832,48.467,48.8164,20.0,41.8784,37.5985,48.15,33.4148,34.4329,29.7176,50.3667,35.685,30.6667,35.69,21.3267,62.0,38.7144,41.6412,43.6619,50.9512,51.4232,48.86,51.5,51.6333,37.5833,35.7894,54.3333,41.2586,40.7298,12.9833,49.75,25.6667,8.0,33.3398,38.4166,34.5342,22.3333,33.4001,40.0,41.878,-37.8139,45.6886,35.2086,40.4555,52.5167,45.7655,22.8,43.6667,28.1792,32.0617,47.3667,43.0377,44.0,37.8672,34.6864,37.57,52.6647,40.0842,38.01,40.1672,38.8357,34.3021,41.5074,39.7795,-33.8615,40.3756,41.3081,40.4086,60.0,47.4891,45.399,40.5525,32.2338,29.6516,36.6683,44.1833,38.6446,52.8,33.8974,53.8,41.1271,28.55,39.5645,42.2734,38.5449,26.5833,33.4488,47.0,43.0761,37.4192,53.0833,22.2833,43.0402,50.4333,37.6624,28.0,42.4667,23.1167,43.1299,37.1784,48.8667,40.61,42.8333,40.8006,59.4119,48.0,40.6761,-4.5833,25.0389,45.4573,26.2034,51.9167,39.8897,41.9,45.4667,-6.1744,39.4895,40.3929,37.5402,39.1058,37.7269,41.79,\"32.6917\",\"40.399\",\"55.6078\"],\"legendgroup\":\"0 - 200\",\"lon\":[-97.0,-80.4325,-80.3515,-122.172,113.5325,121.3997,-122.0603,5.1191,-118.2987,-95.4909,-1.5667,9.0,121.525,9.7,-104.8214,-122.1206,133.0,9.0,5.75,-71.1056,108.9286,7.2167,82.9346,-121.6398,12.55,11.65,-122.0074,37.6156,-123.1041,117.2808,105.0,-122.2536,151.0833,13.0667,7.6333,114.2734,5.8748,11.9667,101.7667,10.75,88.3697,-94.5735,-95.0,34.75,-123.2177,123.4328,-0.0931,120.3719,106.0,4.9167,126.65,11.35,-71.3977,-63.5667,-88.2123,-70.6275,44.0,-106.533,53.0,57.0788,2.6078,2.4937,77.0,-87.6852,126.9783,11.5833,-111.9093,-119.8371,-95.4188,30.45,139.7514,104.0667,139.69,-157.8167,10.0,-121.8529,-111.8966,-79.3952,1.859,7.0298,2.35,-0.13,-3.9667,139.9167,139.6233,10.1333,-95.9378,-73.8251,77.5833,15.5,-100.4,38.0,-111.6385,-122.0101,-82.7167,87.3333,-111.929,-4.0,-88.0163,144.9634,21.9031,-97.4445,-105.4648,13.4,4.8755,86.1833,-79.4167,113.1136,118.7778,8.55,-76.1396,21.0,-122.2568,135.52,126.98,-8.6231,-82.9378,-122.2592,-105.1019,-77.3375,-118.7208,-81.6053,-86.1328,151.2055,-74.6597,-72.9282,-3.6922,100.0,-122.2908,-75.7304,-74.2915,-110.95,-82.3248,116.9972,28.65,-90.2533,13.3,-107.0261,-1.5833,-73.4416,115.9333,-75.597,-83.7133,-121.7405,106.7167,-111.8014,8.0,-89.4104,-122.0574,8.8,114.15,-76.2231,4.65,-121.8747,3.0,14.2167,113.25,-77.6082,-3.5992,2.3333,-73.9108,12.8333,-73.9653,5.2775,7.85,-74.573,55.6667,102.7183,-122.7992,-98.23,4.5,115.275,12.4833,9.2,106.8294,-104.7676,-74.5412,-122.3041,-94.5933,112.4708,-73.8874,\"-117.115\",\"-86.8575\",\"12.9982\"],\"marker\":{\"color\":\"#636EFA\",\"size\":[139,7,7,1,7,3,4,4,2,1,3,25,6,1,1,2,4,1,4,1,1,1,1,36,1,5,123,1,2,156,9,12,3,4,4,12,1,1,1,4,2,1,2,2,1,1,2,1,1,7,47,1,1,1,1,2,1,1,41,81,1,1,24,2,1,1,2,4,3,1,2,1,8,3,3,1,2,6,1,1,52,3,1,1,1,2,1,1,3,1,1,1,1,1,1,2,1,1,1,1,7,7,1,2,1,1,3,5,4,1,3,1,1,17,3,1,8,1,2,1,4,1,27,1,1,2,1,1,1,2,88,1,2,1,1,1,1,1,1,70,9,72,13,1,2,1,2,2,3,1,1,1,1,1,1,1,4,1,1,1,1,3,1,1,1,1,1,2,6,1,1,8,3,1,1,1,3,4,1,1,1,5,2,3],\"sizemode\":\"area\",\"sizeref\":2.8875,\"symbol\":\"circle\"},\"mode\":\"markers\",\"name\":\"0 - 200\",\"showlegend\":true,\"type\":\"scattergeo\"},{\"geo\":\"geo\",\"hovertemplate\":[\"(38.0, -97.0): 139\",\"(37.2669, -80.4325): 7\",\"(37.1791, -80.3515): 7\",\"(37.4178, -122.172): 1\",\"(34.6836, 113.5325): 7\",\"(31.0456, 121.3997): 3\",\"(36.9899, -122.0603): 4\",\"(52.0938, 5.1191): 4\",\"(33.7866, -118.2987): 2\",\"(29.8048, -95.4909): 1\",\"(54.7667, -1.5667): 3\",\"(51.0, 9.0): 25\",\"(25.0392, 121.525): 6\",\"(45.15, 9.7): 1\",\"(38.8339, -104.8214): 1\",\"(47.6801, -122.1206): 2\",\"(-27.0, 133.0): 4\",\"(34.0, 9.0): 1\",\"(52.5, 5.75): 4\",\"(42.3751, -71.1056): 1\",\"(34.2583, 108.9286): 1\",\"(51.4833, 7.2167): 1\",\"(55.0415, 82.9346): 1\",\"(38.4829, -121.6398): 36\",\"(48.5667, 12.55): 1\",\"(48.25, 11.65): 5\",\"(37.4249, -122.0074): 123\",\"(55.7522, 37.6156): 1\",\"(49.2836, -123.1041): 2\",\"(31.8639, 117.2808): 156\",\"(35.0, 105.0): 9\",\"(37.8668, -122.2536): 12\",\"(-33.8, 151.0833): 3\",\"(52.4, 13.0667): 4\",\"(51.9667, 7.6333): 4\",\"(30.5801, 114.2734): 12\",\"(50.9957, 5.8748): 1\",\"(57.7167, 11.9667): 1\",\"(36.6167, 101.7667): 1\",\"(59.9167, 10.75): 4\",\"(22.5697, 88.3697): 2\",\"(39.1472, -94.5735): 1\",\"(60.0, -95.0): 2\",\"(31.5, 34.75): 2\",\"(49.2765, -123.2177): 1\",\"(41.7922, 123.4328): 1\",\"(51.5142, -0.0931): 2\",\"(36.0986, 120.3719): 1\",\"(16.0, 106.0): 1\",\"(52.35, 4.9167): 7\",\"(45.75, 126.65): 47\",\"(43.3167, 11.35): 1\",\"(41.8267, -71.3977): 1\",\"(44.6667, -63.5667): 1\",\"(39.9289, 116.3883): 1155\",\"(40.1095, -88.2123): 1\",\"(41.5748, -70.6275): 2\",\"(33.0, 44.0): 1\",\"(31.8545, -106.533): 1\",\"(32.0, 53.0): 41\",\"(30.2832, 57.0788): 81\",\"(48.467, 2.6078): 1\",\"(48.8164, 2.4937): 1\",\"(20.0, 77.0): 24\",\"(41.8784, -87.6852): 2\",\"(37.5985, 126.9783): 1\",\"(48.15, 11.5833): 1\",\"(33.4148, -111.9093): 2\",\"(34.4329, -119.8371): 4\",\"(29.7176, -95.4188): 3\",\"(50.3667, 30.45): 1\",\"(35.685, 139.7514): 2\",\"(30.6667, 104.0667): 1\",\"(35.69, 139.69): 8\",\"(21.3267, -157.8167): 3\",\"(62.0, 10.0): 3\",\"(38.7144, -121.8529): 1\",\"(41.6412, -111.8966): 2\",\"(43.6619, -79.3952): 6\",\"(50.9512, 1.859): 1\",\"(51.4232, 7.0298): 1\",\"(48.86, 2.35): 52\",\"(51.5, -0.13): 3\",\"(51.6333, -3.9667): 1\",\"(37.5833, 139.9167): 1\",\"(35.7894, 139.6233): 1\",\"(54.3333, 10.1333): 2\",\"(41.2586, -95.9378): 1\",\"(40.7298, -73.8251): 1\",\"(12.9833, 77.5833): 3\",\"(49.75, 15.5): 1\",\"(25.6667, -100.4): 1\",\"(8.0, 38.0): 1\",\"(33.3398, -111.6385): 1\",\"(38.4166, -122.0101): 1\",\"(34.5342, -82.7167): 1\",\"(22.3333, 87.3333): 2\",\"(33.4001, -111.929): 1\",\"(40.0, -4.0): 1\",\"(41.878, -88.0163): 1\",\"(-37.8139, 144.9634): 1\",\"(45.6886, 21.9031): 7\",\"(35.2086, -97.4445): 7\",\"(40.4555, -105.4648): 1\",\"(52.5167, 13.4): 2\",\"(45.7655, 4.8755): 1\",\"(22.8, 86.1833): 1\",\"(43.6667, -79.4167): 3\",\"(28.1792, 113.1136): 5\",\"(32.0617, 118.7778): 4\",\"(47.3667, 8.55): 1\",\"(43.0377, -76.1396): 3\",\"(44.0, 21.0): 1\",\"(37.8672, -122.2568): 1\",\"(34.6864, 135.52): 17\",\"(37.57, 126.98): 3\",\"(52.6647, -8.6231): 1\",\"(40.0842, -82.9378): 8\",\"(38.01, -122.2592): 1\",\"(40.1672, -105.1019): 2\",\"(38.8357, -77.3375): 1\",\"(34.3021, -118.7208): 4\",\"(41.5074, -81.6053): 1\",\"(39.7795, -86.1328): 27\",\"(-33.8615, 151.2055): 1\",\"(40.3756, -74.6597): 1\",\"(41.3081, -72.9282): 2\",\"(40.4086, -3.6922): 1\",\"(60.0, 100.0): 1\",\"(47.4891, -122.2908): 1\",\"(45.399, -75.7304): 2\",\"(40.5525, -74.2915): 88\",\"(32.2338, -110.95): 1\",\"(29.6516, -82.3248): 2\",\"(36.6683, 116.9972): 1\",\"(44.1833, 28.65): 1\",\"(38.6446, -90.2533): 1\",\"(52.8, 13.3): 1\",\"(33.8974, -107.0261): 1\",\"(53.8, -1.5833): 1\",\"(41.1271, -73.4416): 70\",\"(28.55, 115.9333): 9\",\"(39.5645, -75.597): 72\",\"(42.2734, -83.7133): 13\",\"(38.5449, -121.7405): 1\",\"(26.5833, 106.7167): 2\",\"(33.4488, -111.8014): 1\",\"(47.0, 8.0): 2\",\"(43.0761, -89.4104): 2\",\"(37.4192, -122.0574): 3\",\"(53.0833, 8.8): 1\",\"(22.2833, 114.15): 1\",\"(43.0402, -76.2231): 1\",\"(50.4333, 4.65): 1\",\"(37.6624, -121.8747): 1\",\"(28.0, 3.0): 1\",\"(42.4667, 14.2167): 1\",\"(23.1167, 113.25): 4\",\"(43.1299, -77.6082): 1\",\"(37.1784, -3.5992): 1\",\"(48.8667, 2.3333): 1\",\"(40.61, -73.9108): 1\",\"(42.8333, 12.8333): 3\",\"(40.8006, -73.9653): 1\",\"(59.4119, 5.2775): 1\",\"(48.0, 7.85): 1\",\"(40.6761, -74.573): 1\",\"(-4.5833, 55.6667): 1\",\"(25.0389, 102.7183): 2\",\"(45.4573, -122.7992): 6\",\"(26.2034, -98.23): 1\",\"(51.9167, 4.5): 1\",\"(39.8897, 115.275): 8\",\"(41.9, 12.4833): 3\",\"(45.4667, 9.2): 1\",\"(-6.1744, 106.8294): 1\",\"(39.4895, -104.7676): 1\",\"(40.3929, -74.5412): 3\",\"(37.5402, -122.3041): 4\",\"(39.1058, -94.5933): 1\",\"(37.7269, 112.4708): 1\",\"(41.79, -73.8874): 1\",\"(32.6917, -117.115): 5\",\"(40.399, -86.8575): 2\",\"(55.6078, 12.9982): 3\"],\"lat\":[39.9289],\"legendgroup\":\"1000 - 1200\",\"lon\":[116.3883],\"marker\":{\"color\":\"#EF553B\",\"size\":[1155],\"sizemode\":\"area\",\"sizeref\":2.8875,\"symbol\":\"circle\"},\"mode\":\"markers\",\"name\":\"1000 - 1200\",\"showlegend\":true,\"type\":\"scattergeo\"}],                        {\"template\":{\"data\":{\"histogram2dcontour\":[{\"type\":\"histogram2dcontour\",\"colorbar\":{\"outlinewidth\":0,\"ticks\":\"\"},\"colorscale\":[[0.0,\"#0d0887\"],[0.1111111111111111,\"#46039f\"],[0.2222222222222222,\"#7201a8\"],[0.3333333333333333,\"#9c179e\"],[0.4444444444444444,\"#bd3786\"],[0.5555555555555556,\"#d8576b\"],[0.6666666666666666,\"#ed7953\"],[0.7777777777777778,\"#fb9f3a\"],[0.8888888888888888,\"#fdca26\"],[1.0,\"#f0f921\"]]}],\"choropleth\":[{\"type\":\"choropleth\",\"colorbar\":{\"outlinewidth\":0,\"ticks\":\"\"}}],\"histogram2d\":[{\"type\":\"histogram2d\",\"colorbar\":{\"outlinewidth\":0,\"ticks\":\"\"},\"colorscale\":[[0.0,\"#0d0887\"],[0.1111111111111111,\"#46039f\"],[0.2222222222222222,\"#7201a8\"],[0.3333333333333333,\"#9c179e\"],[0.4444444444444444,\"#bd3786\"],[0.5555555555555556,\"#d8576b\"],[0.6666666666666666,\"#ed7953\"],[0.7777777777777778,\"#fb9f3a\"],[0.8888888888888888,\"#fdca26\"],[1.0,\"#f0f921\"]]}],\"heatmap\":[{\"type\":\"heatmap\",\"colorbar\":{\"outlinewidth\":0,\"ticks\":\"\"},\"colorscale\":[[0.0,\"#0d0887\"],[0.1111111111111111,\"#46039f\"],[0.2222222222222222,\"#7201a8\"],[0.3333333333333333,\"#9c179e\"],[0.4444444444444444,\"#bd3786\"],[0.5555555555555556,\"#d8576b\"],[0.6666666666666666,\"#ed7953\"],[0.7777777777777778,\"#fb9f3a\"],[0.8888888888888888,\"#fdca26\"],[1.0,\"#f0f921\"]]}],\"heatmapgl\":[{\"type\":\"heatmapgl\",\"colorbar\":{\"outlinewidth\":0,\"ticks\":\"\"},\"colorscale\":[[0.0,\"#0d0887\"],[0.1111111111111111,\"#46039f\"],[0.2222222222222222,\"#7201a8\"],[0.3333333333333333,\"#9c179e\"],[0.4444444444444444,\"#bd3786\"],[0.5555555555555556,\"#d8576b\"],[0.6666666666666666,\"#ed7953\"],[0.7777777777777778,\"#fb9f3a\"],[0.8888888888888888,\"#fdca26\"],[1.0,\"#f0f921\"]]}],\"contourcarpet\":[{\"type\":\"contourcarpet\",\"colorbar\":{\"outlinewidth\":0,\"ticks\":\"\"}}],\"contour\":[{\"type\":\"contour\",\"colorbar\":{\"outlinewidth\":0,\"ticks\":\"\"},\"colorscale\":[[0.0,\"#0d0887\"],[0.1111111111111111,\"#46039f\"],[0.2222222222222222,\"#7201a8\"],[0.3333333333333333,\"#9c179e\"],[0.4444444444444444,\"#bd3786\"],[0.5555555555555556,\"#d8576b\"],[0.6666666666666666,\"#ed7953\"],[0.7777777777777778,\"#fb9f3a\"],[0.8888888888888888,\"#fdca26\"],[1.0,\"#f0f921\"]]}],\"surface\":[{\"type\":\"surface\",\"colorbar\":{\"outlinewidth\":0,\"ticks\":\"\"},\"colorscale\":[[0.0,\"#0d0887\"],[0.1111111111111111,\"#46039f\"],[0.2222222222222222,\"#7201a8\"],[0.3333333333333333,\"#9c179e\"],[0.4444444444444444,\"#bd3786\"],[0.5555555555555556,\"#d8576b\"],[0.6666666666666666,\"#ed7953\"],[0.7777777777777778,\"#fb9f3a\"],[0.8888888888888888,\"#fdca26\"],[1.0,\"#f0f921\"]]}],\"mesh3d\":[{\"type\":\"mesh3d\",\"colorbar\":{\"outlinewidth\":0,\"ticks\":\"\"}}],\"scatter\":[{\"fillpattern\":{\"fillmode\":\"overlay\",\"size\":10,\"solidity\":0.2},\"type\":\"scatter\"}],\"parcoords\":[{\"type\":\"parcoords\",\"line\":{\"colorbar\":{\"outlinewidth\":0,\"ticks\":\"\"}}}],\"scatterpolargl\":[{\"type\":\"scatterpolargl\",\"marker\":{\"colorbar\":{\"outlinewidth\":0,\"ticks\":\"\"}}}],\"bar\":[{\"error_x\":{\"color\":\"#2a3f5f\"},\"error_y\":{\"color\":\"#2a3f5f\"},\"marker\":{\"line\":{\"color\":\"#E5ECF6\",\"width\":0.5},\"pattern\":{\"fillmode\":\"overlay\",\"size\":10,\"solidity\":0.2}},\"type\":\"bar\"}],\"scattergeo\":[{\"type\":\"scattergeo\",\"marker\":{\"colorbar\":{\"outlinewidth\":0,\"ticks\":\"\"}}}],\"scatterpolar\":[{\"type\":\"scatterpolar\",\"marker\":{\"colorbar\":{\"outlinewidth\":0,\"ticks\":\"\"}}}],\"histogram\":[{\"marker\":{\"pattern\":{\"fillmode\":\"overlay\",\"size\":10,\"solidity\":0.2}},\"type\":\"histogram\"}],\"scattergl\":[{\"type\":\"scattergl\",\"marker\":{\"colorbar\":{\"outlinewidth\":0,\"ticks\":\"\"}}}],\"scatter3d\":[{\"type\":\"scatter3d\",\"line\":{\"colorbar\":{\"outlinewidth\":0,\"ticks\":\"\"}},\"marker\":{\"colorbar\":{\"outlinewidth\":0,\"ticks\":\"\"}}}],\"scattermapbox\":[{\"type\":\"scattermapbox\",\"marker\":{\"colorbar\":{\"outlinewidth\":0,\"ticks\":\"\"}}}],\"scatterternary\":[{\"type\":\"scatterternary\",\"marker\":{\"colorbar\":{\"outlinewidth\":0,\"ticks\":\"\"}}}],\"scattercarpet\":[{\"type\":\"scattercarpet\",\"marker\":{\"colorbar\":{\"outlinewidth\":0,\"ticks\":\"\"}}}],\"carpet\":[{\"aaxis\":{\"endlinecolor\":\"#2a3f5f\",\"gridcolor\":\"white\",\"linecolor\":\"white\",\"minorgridcolor\":\"white\",\"startlinecolor\":\"#2a3f5f\"},\"baxis\":{\"endlinecolor\":\"#2a3f5f\",\"gridcolor\":\"white\",\"linecolor\":\"white\",\"minorgridcolor\":\"white\",\"startlinecolor\":\"#2a3f5f\"},\"type\":\"carpet\"}],\"table\":[{\"cells\":{\"fill\":{\"color\":\"#EBF0F8\"},\"line\":{\"color\":\"white\"}},\"header\":{\"fill\":{\"color\":\"#C8D4E3\"},\"line\":{\"color\":\"white\"}},\"type\":\"table\"}],\"barpolar\":[{\"marker\":{\"line\":{\"color\":\"#E5ECF6\",\"width\":0.5},\"pattern\":{\"fillmode\":\"overlay\",\"size\":10,\"solidity\":0.2}},\"type\":\"barpolar\"}],\"pie\":[{\"automargin\":true,\"type\":\"pie\"}]},\"layout\":{\"autotypenumbers\":\"strict\",\"colorway\":[\"#636efa\",\"#EF553B\",\"#00cc96\",\"#ab63fa\",\"#FFA15A\",\"#19d3f3\",\"#FF6692\",\"#B6E880\",\"#FF97FF\",\"#FECB52\"],\"font\":{\"color\":\"#2a3f5f\"},\"hovermode\":\"closest\",\"hoverlabel\":{\"align\":\"left\"},\"paper_bgcolor\":\"white\",\"plot_bgcolor\":\"#E5ECF6\",\"polar\":{\"bgcolor\":\"#E5ECF6\",\"angularaxis\":{\"gridcolor\":\"white\",\"linecolor\":\"white\",\"ticks\":\"\"},\"radialaxis\":{\"gridcolor\":\"white\",\"linecolor\":\"white\",\"ticks\":\"\"}},\"ternary\":{\"bgcolor\":\"#E5ECF6\",\"aaxis\":{\"gridcolor\":\"white\",\"linecolor\":\"white\",\"ticks\":\"\"},\"baxis\":{\"gridcolor\":\"white\",\"linecolor\":\"white\",\"ticks\":\"\"},\"caxis\":{\"gridcolor\":\"white\",\"linecolor\":\"white\",\"ticks\":\"\"}},\"coloraxis\":{\"colorbar\":{\"outlinewidth\":0,\"ticks\":\"\"}},\"colorscale\":{\"sequential\":[[0.0,\"#0d0887\"],[0.1111111111111111,\"#46039f\"],[0.2222222222222222,\"#7201a8\"],[0.3333333333333333,\"#9c179e\"],[0.4444444444444444,\"#bd3786\"],[0.5555555555555556,\"#d8576b\"],[0.6666666666666666,\"#ed7953\"],[0.7777777777777778,\"#fb9f3a\"],[0.8888888888888888,\"#fdca26\"],[1.0,\"#f0f921\"]],\"sequentialminus\":[[0.0,\"#0d0887\"],[0.1111111111111111,\"#46039f\"],[0.2222222222222222,\"#7201a8\"],[0.3333333333333333,\"#9c179e\"],[0.4444444444444444,\"#bd3786\"],[0.5555555555555556,\"#d8576b\"],[0.6666666666666666,\"#ed7953\"],[0.7777777777777778,\"#fb9f3a\"],[0.8888888888888888,\"#fdca26\"],[1.0,\"#f0f921\"]],\"diverging\":[[0,\"#8e0152\"],[0.1,\"#c51b7d\"],[0.2,\"#de77ae\"],[0.3,\"#f1b6da\"],[0.4,\"#fde0ef\"],[0.5,\"#f7f7f7\"],[0.6,\"#e6f5d0\"],[0.7,\"#b8e186\"],[0.8,\"#7fbc41\"],[0.9,\"#4d9221\"],[1,\"#276419\"]]},\"xaxis\":{\"gridcolor\":\"white\",\"linecolor\":\"white\",\"ticks\":\"\",\"title\":{\"standoff\":15},\"zerolinecolor\":\"white\",\"automargin\":true,\"zerolinewidth\":2},\"yaxis\":{\"gridcolor\":\"white\",\"linecolor\":\"white\",\"ticks\":\"\",\"title\":{\"standoff\":15},\"zerolinecolor\":\"white\",\"automargin\":true,\"zerolinewidth\":2},\"scene\":{\"xaxis\":{\"backgroundcolor\":\"#E5ECF6\",\"gridcolor\":\"white\",\"linecolor\":\"white\",\"showbackground\":true,\"ticks\":\"\",\"zerolinecolor\":\"white\",\"gridwidth\":2},\"yaxis\":{\"backgroundcolor\":\"#E5ECF6\",\"gridcolor\":\"white\",\"linecolor\":\"white\",\"showbackground\":true,\"ticks\":\"\",\"zerolinecolor\":\"white\",\"gridwidth\":2},\"zaxis\":{\"backgroundcolor\":\"#E5ECF6\",\"gridcolor\":\"white\",\"linecolor\":\"white\",\"showbackground\":true,\"ticks\":\"\",\"zerolinecolor\":\"white\",\"gridwidth\":2}},\"shapedefaults\":{\"line\":{\"color\":\"#2a3f5f\"}},\"annotationdefaults\":{\"arrowcolor\":\"#2a3f5f\",\"arrowhead\":0,\"arrowwidth\":1},\"geo\":{\"bgcolor\":\"white\",\"landcolor\":\"#E5ECF6\",\"subunitcolor\":\"white\",\"showland\":true,\"showlakes\":true,\"lakecolor\":\"white\"},\"title\":{\"x\":0.05},\"mapbox\":{\"style\":\"light\"}}},\"geo\":{\"domain\":{\"x\":[0.0,1.0],\"y\":[0.0,1.0]},\"center\":{}},\"legend\":{\"title\":{\"text\":\"range\"},\"tracegroupgap\":0,\"itemsizing\":\"constant\"},\"title\":{\"text\":\"Hitmap (Geo)\"}},                        {\"responsive\": true}                    ).then(function(){\n",
       "                            \n",
       "var gd = document.getElementById('d68a99a4-d4f2-487e-bb32-59d5628bb8a4');\n",
       "var x = new MutationObserver(function (mutations, observer) {{\n",
       "        var display = window.getComputedStyle(gd).display;\n",
       "        if (!display || display === 'none') {{\n",
       "            console.log([gd, 'removed!']);\n",
       "            Plotly.purge(gd);\n",
       "            observer.disconnect();\n",
       "        }}\n",
       "}});\n",
       "\n",
       "// Listen for the removal of the full notebook cells\n",
       "var notebookContainer = gd.closest('#notebook-container');\n",
       "if (notebookContainer) {{\n",
       "    x.observe(notebookContainer, {childList: true});\n",
       "}}\n",
       "\n",
       "// Listen for the clearing of the current output cell\n",
       "var outputEl = gd.closest('.output');\n",
       "if (outputEl) {{\n",
       "    x.observe(outputEl, {childList: true});\n",
       "}}\n",
       "\n",
       "                        })                };                });            </script>        </div>"
      ]
     },
     "metadata": {},
     "output_type": "display_data"
    }
   ],
   "source": [
    "# Plot using scattergeo\n",
    "\n",
    "if (legend == 'range'):\n",
    "    fig = px.scatter_geo(df2,lat='lat', lon='lon', size='freq', title='Hitmap (Geo)', color=legend, color_discrete_sequence=colors)\n",
    "else:\n",
    "    fig = px.scatter_geo(df2,lat='lat', lon='lon', size='freq', title='Hitmap (Geo)', color=legend, color_continuous_scale=colors)\n",
    "\n",
    "# Format the hovertext. Note: The lat, lon, and freq from the dataframe must be in string format.\n",
    "fig.update_traces(hovertemplate = \"(\" + df2['lat'].apply(str) + \", \" + df2['lon'].apply(str) + \"): \" + df2['freq'].apply(str));\n",
    "fig.update_traces(marker_sizemin=10, selector=dict(type='scatter')) \n",
    "\n",
    "fig.show()"
   ]
  },
  {
   "cell_type": "code",
   "execution_count": null,
   "metadata": {},
   "outputs": [],
   "source": [
    "# Plot using scatter_mapbox, with open-street-map as the default.\n",
    "\n",
    "if (legend == 'range'):\n",
    "    fig = px.scatter_mapbox(df2,lat='lat', lon='lon', size='freq', zoom=0.5, center=dict(lon=0, lat=0), mapbox_style=\"open-street-map\", title='Hitmap (Mapbox)', color=legend, color_discrete_sequence=colors)\n",
    "else:\n",
    "    fig = px.scatter_mapbox(df2,lat='lat', lon='lon', size='freq', zoom=0.5, center=dict(lon=0, lat=0), mapbox_style=\"open-street-map\", title='Hitmap (Mapbox)', color=legend, color_continuous_scale=colors)\n",
    "\n",
    "# To change the style of the mapbox, uncomment any of the following lines:\n",
    "#fig.update_layout(mapbox_style=\"carto-positron\")\n",
    "#fig.update_layout(mapbox_style=\"carto-darkmatter\")\n",
    "#fig.update_layout(mapbox_style=\"stamen-terrain\")\n",
    "#fig.update_layout(mapbox_style=\"stamen-toner\")\n",
    "\n",
    "# Format the hovertext. Note: The lat, lon, and freq from the dataframe must be in string format.\n",
    "fig.update_traces(hovertemplate = \"(\" + df2['lat'].apply(str) + \", \" + df2['lon'].apply(str) + \"): \" + df2['freq'].apply(str));\n",
    "fig.update_traces(marker_sizemin=10, selector=dict(type='scatter')) \n",
    "fig.show()"
   ]
  },
  {
   "cell_type": "code",
   "execution_count": null,
   "metadata": {},
   "outputs": [],
   "source": []
  },
  {
   "cell_type": "code",
   "execution_count": null,
   "metadata": {},
   "outputs": [],
   "source": []
  }
 ],
 "metadata": {
  "kernelspec": {
   "display_name": "Python 3 (ipykernel)",
   "language": "python",
   "name": "python3"
  },
  "language_info": {
   "codemirror_mode": {
    "name": "ipython",
    "version": 3
   },
   "file_extension": ".py",
   "mimetype": "text/x-python",
   "name": "python",
   "nbconvert_exporter": "python",
   "pygments_lexer": "ipython3",
   "version": "3.9.7"
  },
  "vscode": {
   "interpreter": {
    "hash": "f31d01998095cca85f56168904fccbdb0fa4f8e06d669060b0340b715c5d7401"
   }
  }
 },
 "nbformat": 4,
 "nbformat_minor": 4
}
