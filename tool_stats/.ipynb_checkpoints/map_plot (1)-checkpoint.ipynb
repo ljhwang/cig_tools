{
 "cells": [
  {
   "cell_type": "markdown",
   "metadata": {},
   "source": [
    "# Hitcount Map\n",
    "\n",
    "*Authors: Lorraine Hwang, Denise Kwong*\n"
   ]
  },
  {
   "cell_type": "markdown",
   "metadata": {},
   "source": [
    "Jupyter notebook to create heatmap hitcounts from old data.\n",
    "\n",
    "This is being run in an conda python environment.\n",
    "Remember to run from a terminal window:\n",
    "\n",
    "    conda activate hitmap\n",
    "\n",
    "This environment includes (conda install):\n",
    "\n",
    "    python\n",
    "\n",
    "    pandas\n",
    "\n",
    "    geopandas\n",
    "\n",
    "        conda install --channel conda-forge geopandas\n",
    "\n",
    "\n",
    "And exit when finished (unless you crash):\n",
    "\n",
    "    conda deactivate\n",
    "\n",
    "    ---\n",
    "\n",
    "This notebook is derived from plot.py by Eric Heien.\n",
    "\n"
   ]
  },
  {
   "cell_type": "markdown",
   "metadata": {},
   "source": [
    "## Import needed libraries"
   ]
  },
  {
   "cell_type": "code",
   "execution_count": 1,
   "metadata": {},
   "outputs": [],
   "source": [
    "import math\n",
    "import os\n",
    "#import sys\n",
    "#sys.path.append(\"../..\")\n",
    "#import cig_codes\n",
    "import os\n",
    "import sqlite3\n",
    "#import random\n",
    "import datetime\n",
    "#import tempfile"
   ]
  },
  {
   "cell_type": "markdown",
   "metadata": {},
   "source": [
    "## Set parameters"
   ]
  },
  {
   "cell_type": "code",
   "execution_count": 2,
   "metadata": {},
   "outputs": [],
   "source": [
    "# START_TIME and END_TIME must be in UNIX epoch format (seconds since Jan 1 1970)\"\n",
    "\n",
    "# Set default time to the beginning of time Jan 1 1970\n",
    "START_TIME = datetime.datetime.fromtimestamp(0)\n",
    "\n",
    "# To change the default start time, replace MM/DD/YY HH:MM:SS with target time\n",
    "#START_TIME = datetime.datetime.strptime('MM/DD/YY HH:MM:SS', '%m/%d/%y %H:%M:%S')\n",
    "\n",
    "\n",
    "# Set end time to current time. However this is invalid as the database stops in 2021. \n",
    "# This will need to be fixed later.\n",
    "END_TIME = datetime.datetime.now()\n",
    "\n",
    "# To change the default end time, replace MM/DD/YY HH:MM:SS with target time\n",
    "#END_TIME = datetime.datetime.strptime('MM/DD/YY HH:MM:SS', '%m/%d/%y %H:%M:%S')"
   ]
  },
  {
   "cell_type": "code",
   "execution_count": 3,
   "metadata": {},
   "outputs": [],
   "source": [
    "# This looks like a fixed set of IPS that are know to be bots.\n",
    "# This may or may not be up to date relative to the age of the database.\n",
    "# IP numbers to filter\n",
    "# \n",
    "filter_ips = [\n",
    "    2155411043,\n",
    "    # shell.geodynamics.org, automatically downloads packages for\n",
    "    # documentation\n",
    "    1368427042,  # crawl-81-144-138-34.wotbox.com, crawler\n",
    "    2025873270,  # 120.192.95.118, unknown site in China\n",
    "    2026569611,  # 120.202.255.139, unknown site in China\n",
    "    2025868405,  # 120.192.76.117, unknown site in China\n",
    "    2026569613,  # 120.202.255.141, unknown site in China\n",
    "    3548981000,  # 211.137.39.8, unknown site in China\n",
    "    1862796174,  # 111.8.3.142, unknown site in China\n",
    "    3548981003,  # 211.137.39.11, unknown site in China\n",
    "    3548980999,  # 211.137.39.7, unknown site in China\n",
    "    3719653427,  # 221.181.104.51, unknown site in China\n",
    "    2025868387,  # 120.192.76.99, unknown site in China\n",
    "]"
   ]
  },
  {
   "cell_type": "code",
   "execution_count": 4,
   "metadata": {},
   "outputs": [],
   "source": [
    "# Define a bunch of functions\n",
    "# We are not going to use GMT so those functions are omitted here\n",
    "# COME BACK TO THIS LATER TO SEE IF ALL OF THESE ARE USED\n",
    "def find_ip_lat_lon(db_conn, ip_num):\n",
    "    curs = db_conn.cursor()\n",
    "    curs.execute(\n",
    "        \"SELECT location.latitude, location.longitude FROM location, block WHERE block.loc_id = location.loc_id AND ? BETWEEN block.start_ip AND block.end_ip limit 1;\", (ip_num,))\n",
    "    return curs.fetchone()\n",
    "\n",
    "\n",
    "def ip_nums_to_locations(db_name, ip_num_list):\n",
    "    db_conn = sqlite3.connect(db_name)\n",
    "    unmapped_ips = 0\n",
    "\n",
    "    cache = {}\n",
    "    result = []\n",
    "    for check_ip in ip_num_list:\n",
    "        if check_ip in cache:\n",
    "            result.append(cache[check_ip])\n",
    "        else:\n",
    "            res = find_ip_lat_lon(db_conn, check_ip)\n",
    "            if res is not None:\n",
    "                result.append(res)\n",
    "                cache[check_ip] = res\n",
    "    db_conn.close()\n",
    "\n",
    "    return result\n",
    "\n",
    "\n",
    "def lookup_hits(db_name, package_name, start_time, end_time):\n",
    "    db_conn = sqlite3.connect(db_name)\n",
    "    curs = db_conn.cursor()\n",
    "    result = []\n",
    "    if package_name == \"comprehensive\":\n",
    "        curs.execute(\n",
    "            \"SELECT hit.ip_num FROM hit WHERE hit.time >= ? AND hit.time <= ?;\", (start_time, end_time,))\n",
    "    else:\n",
    "        curs.execute(\n",
    "            \"SELECT hit.ip_num FROM hit, dist_file, package WHERE hit.time >= ? AND hit.time <= ? AND hit.file_id = dist_file.id AND dist_file.package_id = package.id AND package.package_name = ?;\",\n",
    "            (start_time, end_time, package_name,))\n",
    "    while True:\n",
    "        next_val = curs.fetchone()\n",
    "        if next_val is None:\n",
    "            break\n",
    "        ip_int_val = int(next_val[0])\n",
    "        if ip_int_val not in filter_ips:\n",
    "            result.append(ip_int_val)\n",
    "    db_conn.close()\n",
    "    return result\n",
    "\n",
    "\n",
    "def bin_locs_into_grid(locs, digits):\n",
    "    grid = {}\n",
    "    for loc in locs:\n",
    "        ll_key = (round(loc[0], digits), round(loc[1], digits))\n",
    "        if not grid.has_key(ll_key):\n",
    "            grid[ll_key] = 0\n",
    "        grid[ll_key] += 1\n",
    "\n",
    "    return grid\n"
   ]
  },
  {
   "cell_type": "markdown",
   "metadata": {},
   "source": [
    "## Set Map Parameters"
   ]
  },
  {
   "cell_type": "code",
   "execution_count": 10,
   "metadata": {},
   "outputs": [
    {
     "name": "stdout",
     "output_type": "stream",
     "text": [
      "../hit_database/hit_database /ip_database/ip_lookup_db output aspect 1969-12-31 16:00:00 2023-07-20 13:12:22.813156\n"
     ]
    }
   ],
   "source": [
    "# Originally the parameters were read in from the command line\n",
    "#HIT_DB_NAME = sys.argv[1]\n",
    "#LOCATION_DB_NAME = sys.argv[2]\n",
    "#OUTPUT_DIR = sys.argv[3]\n",
    "#PACKAGE_NAME = sys.argv[4]\n",
    "#\n",
    "# The locations of the databases are fixed\n",
    "HIT_DB_NAME = \"../hit_database/hit_database\"\n",
    "LOCATION_DB_NAME = \"/ip_database/ip_lookup_db\"\n",
    "OUTPUT_DIR = \"output\"\n",
    "# Alternatively specify a code name. Use a \"-\" dash and not an \"_\" underscore for specfem\n",
    "# We may wish to specify \"all\" too.\n",
    "PACKAGE_NAM = \"aspect\"\n",
    "\n",
    "# CHECK. You can also use VARIABLES in VS to inspect\n",
    "print(HIT_DB_NAME,LOCATION_DB_NAME, OUTPUT_DIR, PACKAGE_NAM, START_TIME, END_TIME)\n"
   ]
  },
  {
   "cell_type": "markdown",
   "metadata": {},
   "source": [
    "## Read in the data"
   ]
  },
  {
   "cell_type": "code",
   "execution_count": 11,
   "metadata": {},
   "outputs": [
    {
     "name": "stdout",
     "output_type": "stream",
     "text": [
      "/Users/lorraine/Repos/stats_notebook\n"
     ]
    },
    {
     "ename": "OperationalError",
     "evalue": "unable to open database file",
     "output_type": "error",
     "traceback": [
      "\u001b[0;31m---------------------------------------------------------------------------\u001b[0m",
      "\u001b[0;31mOperationalError\u001b[0m                          Traceback (most recent call last)",
      "\u001b[0;32m/var/folders/vj/zf04lyt94kzg2dc5p9hr6tfm0000gr/T/ipykernel_17123/4006617434.py\u001b[0m in \u001b[0;36m<module>\u001b[0;34m\u001b[0m\n\u001b[1;32m      9\u001b[0m \u001b[0;34m\u001b[0m\u001b[0m\n\u001b[1;32m     10\u001b[0m \u001b[0;31m# Get the IP numbers associated with a given package\u001b[0m\u001b[0;34m\u001b[0m\u001b[0;34m\u001b[0m\u001b[0m\n\u001b[0;32m---> 11\u001b[0;31m \u001b[0mip_nums\u001b[0m \u001b[0;34m=\u001b[0m \u001b[0mlookup_hits\u001b[0m\u001b[0;34m(\u001b[0m\u001b[0mHIT_DB_NAME\u001b[0m\u001b[0;34m,\u001b[0m \u001b[0mPACKAGE_NAM\u001b[0m\u001b[0;34m,\u001b[0m \u001b[0mSTART_TIME\u001b[0m\u001b[0;34m,\u001b[0m \u001b[0mEND_TIME\u001b[0m\u001b[0;34m)\u001b[0m\u001b[0;34m\u001b[0m\u001b[0;34m\u001b[0m\u001b[0m\n\u001b[0m\u001b[1;32m     12\u001b[0m \u001b[0mprint\u001b[0m\u001b[0;34m(\u001b[0m\u001b[0;34m\"Found\"\u001b[0m\u001b[0;34m,\u001b[0m \u001b[0mlen\u001b[0m\u001b[0;34m(\u001b[0m\u001b[0mip_nums\u001b[0m\u001b[0;34m)\u001b[0m\u001b[0;34m,\u001b[0m \u001b[0;34m\"hits associated with package\"\u001b[0m\u001b[0;34m,\u001b[0m \u001b[0mPACKAGE_NAM\u001b[0m\u001b[0;34m)\u001b[0m\u001b[0;34m\u001b[0m\u001b[0;34m\u001b[0m\u001b[0m\n\u001b[1;32m     13\u001b[0m \u001b[0;32mif\u001b[0m \u001b[0mlen\u001b[0m\u001b[0;34m(\u001b[0m\u001b[0mip_nums\u001b[0m\u001b[0;34m)\u001b[0m \u001b[0;34m==\u001b[0m \u001b[0;36m0\u001b[0m\u001b[0;34m:\u001b[0m\u001b[0;34m\u001b[0m\u001b[0;34m\u001b[0m\u001b[0m\n",
      "\u001b[0;32m/var/folders/vj/zf04lyt94kzg2dc5p9hr6tfm0000gr/T/ipykernel_17123/759544489.py\u001b[0m in \u001b[0;36mlookup_hits\u001b[0;34m(db_name, package_name, start_time, end_time)\u001b[0m\n\u001b[1;32m     29\u001b[0m \u001b[0;34m\u001b[0m\u001b[0m\n\u001b[1;32m     30\u001b[0m \u001b[0;32mdef\u001b[0m \u001b[0mlookup_hits\u001b[0m\u001b[0;34m(\u001b[0m\u001b[0mdb_name\u001b[0m\u001b[0;34m,\u001b[0m \u001b[0mpackage_name\u001b[0m\u001b[0;34m,\u001b[0m \u001b[0mstart_time\u001b[0m\u001b[0;34m,\u001b[0m \u001b[0mend_time\u001b[0m\u001b[0;34m)\u001b[0m\u001b[0;34m:\u001b[0m\u001b[0;34m\u001b[0m\u001b[0;34m\u001b[0m\u001b[0m\n\u001b[0;32m---> 31\u001b[0;31m     \u001b[0mdb_conn\u001b[0m \u001b[0;34m=\u001b[0m \u001b[0msqlite3\u001b[0m\u001b[0;34m.\u001b[0m\u001b[0mconnect\u001b[0m\u001b[0;34m(\u001b[0m\u001b[0mdb_name\u001b[0m\u001b[0;34m)\u001b[0m\u001b[0;34m\u001b[0m\u001b[0;34m\u001b[0m\u001b[0m\n\u001b[0m\u001b[1;32m     32\u001b[0m     \u001b[0mcurs\u001b[0m \u001b[0;34m=\u001b[0m \u001b[0mdb_conn\u001b[0m\u001b[0;34m.\u001b[0m\u001b[0mcursor\u001b[0m\u001b[0;34m(\u001b[0m\u001b[0;34m)\u001b[0m\u001b[0;34m\u001b[0m\u001b[0;34m\u001b[0m\u001b[0m\n\u001b[1;32m     33\u001b[0m     \u001b[0mresult\u001b[0m \u001b[0;34m=\u001b[0m \u001b[0;34m[\u001b[0m\u001b[0;34m]\u001b[0m\u001b[0;34m\u001b[0m\u001b[0;34m\u001b[0m\u001b[0m\n",
      "\u001b[0;31mOperationalError\u001b[0m: unable to open database file"
     ]
    }
   ],
   "source": [
    "# Original code has this looping through all the packages.\n",
    "# Let's just select one package for now. \n",
    "# In the future we will want to concatenate all the data too\n",
    "\n",
    "# This was to debug to figure out why my file paths were wrong.\n",
    "# Keeping it as I may need it again to check final version\n",
    "path=os.getcwd()\n",
    "print(path)\n",
    "\n",
    "# Get the IP numbers associated with a given package\n",
    "ip_nums = lookup_hits(HIT_DB_NAME, PACKAGE_NAM, START_TIME, END_TIME)\n",
    "print(\"Found\", len(ip_nums), \"hits associated with package\", PACKAGE_NAM)\n",
    "if len(ip_nums) == 0:\n",
    "     print(\"Cannot generate plot for\", PACKAGE_NAM)\n",
    "   \n",
    "\n",
    "# Find the corresponding lat/lon points\n",
    "locs = ip_nums_to_locations(LOCATION_DB_NAME, ip_nums)\n",
    "print(\"Checked\", len(ip_nums), \"IPs, found\", len(locs), \"locations.\")\n",
    "# This confirms that locs has (lat,lon) but nothing else ... grrrr ...\n",
    "# print(locs)\n",
    "\n",
    "if len(locs) == 0:\n",
    "    print(\"Cannot generate plot for\", PACKAGE_NAM)\n"
   ]
  },
  {
   "cell_type": "markdown",
   "metadata": {},
   "source": [
    "## Data for Maps"
   ]
  },
  {
   "cell_type": "code",
   "execution_count": null,
   "metadata": {},
   "outputs": [],
   "source": [
    "import pandas as pd\n",
    "import plotly.express as px\n",
    "import json"
   ]
  },
  {
   "cell_type": "code",
   "execution_count": null,
   "metadata": {},
   "outputs": [],
   "source": [
    "# Get the data and store in dictionary, with key as IP and value as frequency of that IP\n",
    "dictionary = {i:locs.count(i) for i in locs}\n",
    "# Convert the dictionary to a dataframe\n",
    "df = pd.DataFrame(dictionary.items(), columns=['latlon', 'freq'])\n",
    "# Create a new dataframe to separate the latitude and the longitude, which are in a tuple together\n",
    "df2 = pd.DataFrame(df['latlon'].tolist(), columns=['lat', 'lon'])\n",
    "# Append the frequency to the new dataframe\n",
    "df2['freq'] = df['freq']"
   ]
  },
  {
   "cell_type": "markdown",
   "metadata": {},
   "source": [
    "Optional: run the following cell to include the current data taken from Tool Stats on https://geodynamics.org. JSON files must be located in a folder `/json` in the same directory."
   ]
  },
  {
   "cell_type": "code",
   "execution_count": null,
   "metadata": {},
   "outputs": [],
   "source": [
    "# Downloads Map Code\n",
    "\n",
    "# monthlyCountList used for Tool Statistics (Downloads, Redirect Counts)\n",
    "# Open and load the data\n",
    "f = open('json/monthlyCountList.json')\n",
    "monthly_count_list_data = json.load(f)\n",
    "\n",
    "# Convert the original data to a dataframe\n",
    "dat = monthly_count_list_data['world_map_list']\n",
    "df = pd.DataFrame(dat)\n",
    "\n",
    "# Get the duplicate entires that contain the same ip_lat, ip_long, city, and region, and the count of each duplicate entry\n",
    "df3 = df.pivot_table(index = ['ip_lat', 'ip_long', 'city', 'region'], aggfunc ='size')\n",
    "# Convert the pivot_table to a dataframe for easier manipulation\n",
    "df3 = df3.reset_index()\n",
    "df3.rename(columns={'ip_lat': 'lat', 'ip_long': 'lon', 0:'freq'}, inplace=True)\n",
    "df3 = df3.drop('city', axis=1)\n",
    "df3 = df3.drop('region', axis=1)\n",
    "\n",
    "df2 = pd.concat([df2, df3], axis=0, ignore_index=True)\n"
   ]
  },
  {
   "cell_type": "markdown",
   "metadata": {},
   "source": [
    "## Plot"
   ]
  },
  {
   "cell_type": "code",
   "execution_count": null,
   "metadata": {},
   "outputs": [],
   "source": [
    "# Plot using scattergeo\n",
    "fig = px.scatter_geo(df2,lat='lat', lon='lon', size='freq', title='Hitmap (Geo)')\n",
    "# Format the hovertext. Note: The lat, lon, and freq from the dataframe must be in string format.\n",
    "fig.update_traces(hovertemplate = \"(\" + df2['lat'].apply(str) + \", \" + df2['lon'].apply(str) + \"): \" + df2['freq'].apply(str));\n",
    "fig.update_traces(marker_sizemin=10, selector=dict(type='scatter')) \n",
    "\n",
    "fig.show()"
   ]
  },
  {
   "cell_type": "code",
   "execution_count": null,
   "metadata": {},
   "outputs": [],
   "source": [
    "# Plot using scatter_mapbox, with open-street-map as the default.\n",
    "fig = px.scatter_mapbox(df2,lat='lat', lon='lon', size='freq', zoom=0.5, center=dict(lon=0, lat=0), mapbox_style=\"open-street-map\", title='Hitmap (Mapbox)')\n",
    "\n",
    "# To change the style of the mapbox, uncomment any of the following lines:\n",
    "#fig.update_layout(mapbox_style=\"carto-positron\")\n",
    "#fig.update_layout(mapbox_style=\"carto-darkmatter\")\n",
    "#fig.update_layout(mapbox_style=\"stamen-terrain\")\n",
    "#fig.update_layout(mapbox_style=\"stamen-toner\")\n",
    "\n",
    "# Format the hovertext. Note: The lat, lon, and freq from the dataframe must be in string format.\n",
    "fig.update_traces(hovertemplate = \"(\" + df2['lat'].apply(str) + \", \" + df2['lon'].apply(str) + \"): \" + df2['freq'].apply(str));\n",
    "fig.update_traces(marker_sizemin=10, selector=dict(type='scatter')) \n",
    "fig.show()"
   ]
  },
  {
   "cell_type": "code",
   "execution_count": null,
   "metadata": {},
   "outputs": [],
   "source": []
  }
 ],
 "metadata": {
  "kernelspec": {
   "display_name": "Python 3 (ipykernel)",
   "language": "python",
   "name": "python3"
  },
  "language_info": {
   "codemirror_mode": {
    "name": "ipython",
    "version": 3
   },
   "file_extension": ".py",
   "mimetype": "text/x-python",
   "name": "python",
   "nbconvert_exporter": "python",
   "pygments_lexer": "ipython3",
   "version": "3.9.7"
  },
  "vscode": {
   "interpreter": {
    "hash": "f31d01998095cca85f56168904fccbdb0fa4f8e06d669060b0340b715c5d7401"
   }
  }
 },
 "nbformat": 4,
 "nbformat_minor": 4
}
